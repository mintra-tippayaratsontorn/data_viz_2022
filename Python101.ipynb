{
  "nbformat": 4,
  "nbformat_minor": 0,
  "metadata": {
    "colab": {
      "name": "Python101.ipynb",
      "provenance": [],
      "authorship_tag": "ABX9TyOYk9uqyRcSkZSTAv5p+3FA",
      "include_colab_link": true
    },
    "kernelspec": {
      "name": "python3",
      "display_name": "Python 3"
    },
    "language_info": {
      "name": "python"
    }
  },
  "cells": [
    {
      "cell_type": "markdown",
      "metadata": {
        "id": "view-in-github",
        "colab_type": "text"
      },
      "source": [
        "<a href=\"https://colab.research.google.com/github/mintra-tippayaratsontorn/data_viz_2022/blob/main/Python101.ipynb\" target=\"_parent\"><img src=\"https://colab.research.google.com/assets/colab-badge.svg\" alt=\"Open In Colab\"/></a>"
      ]
    },
    {
      "cell_type": "markdown",
      "source": [
        "ข้อความในช่อง text เป็นภาษา Markdown\n",
        "(https://www.markdownguide.org/cheat-sheet/)"
      ],
      "metadata": {
        "id": "o15PIm_uImqa"
      }
    },
    {
      "cell_type": "markdown",
      "source": [
        "# การจัดการข้อความในการแสดงผล (Print)"
      ],
      "metadata": {
        "id": "uS_rR-QaJZRa"
      }
    },
    {
      "cell_type": "markdown",
      "source": [
        "## ข้อความ (string)"
      ],
      "metadata": {
        "id": "D0eP27ZaYHEe"
      }
    },
    {
      "cell_type": "code",
      "execution_count": 1,
      "metadata": {
        "colab": {
          "base_uri": "https://localhost:8080/",
          "height": 35
        },
        "id": "ZhRvKQmIIMvv",
        "outputId": "abc74676-e70f-4d04-a6b7-aa3568a2c125"
      },
      "outputs": [
        {
          "output_type": "execute_result",
          "data": {
            "application/vnd.google.colaboratory.intrinsic+json": {
              "type": "string"
            },
            "text/plain": [
              "'สถิติ'"
            ]
          },
          "metadata": {},
          "execution_count": 1
        }
      ],
      "source": [
        "'สถิติ'  # ' quote"
      ]
    },
    {
      "cell_type": "code",
      "source": [
        "\"สถิติ\"  # \" double quote"
      ],
      "metadata": {
        "colab": {
          "base_uri": "https://localhost:8080/",
          "height": 35
        },
        "id": "vK4eHJ0SLNVd",
        "outputId": "bdc8e095-38e3-4b94-e2cc-4e0ab45b452f"
      },
      "execution_count": 2,
      "outputs": [
        {
          "output_type": "execute_result",
          "data": {
            "application/vnd.google.colaboratory.intrinsic+json": {
              "type": "string"
            },
            "text/plain": [
              "'สถิติ'"
            ]
          },
          "metadata": {},
          "execution_count": 2
        }
      ]
    },
    {
      "cell_type": "code",
      "source": [
        "1 + 3  # ตัวเลขบวกกัน"
      ],
      "metadata": {
        "colab": {
          "base_uri": "https://localhost:8080/"
        },
        "id": "8YvYtlDPLtfE",
        "outputId": "d6d26ef3-c07e-468e-af0e-dd3cbbd2c26f"
      },
      "execution_count": 3,
      "outputs": [
        {
          "output_type": "execute_result",
          "data": {
            "text/plain": [
              "4"
            ]
          },
          "metadata": {},
          "execution_count": 3
        }
      ]
    },
    {
      "cell_type": "code",
      "source": [
        "'1' + '3'  # string + string คือการต่อ string (บวกไม่ได้เพราะเป็นข้อความ)"
      ],
      "metadata": {
        "colab": {
          "base_uri": "https://localhost:8080/",
          "height": 35
        },
        "id": "61lcRlqoLwX_",
        "outputId": "655f81fa-6eb7-4430-c2ec-2210a6b16aeb"
      },
      "execution_count": 4,
      "outputs": [
        {
          "output_type": "execute_result",
          "data": {
            "application/vnd.google.colaboratory.intrinsic+json": {
              "type": "string"
            },
            "text/plain": [
              "'13'"
            ]
          },
          "metadata": {},
          "execution_count": 4
        }
      ]
    },
    {
      "cell_type": "code",
      "source": [
        "1 - 3"
      ],
      "metadata": {
        "colab": {
          "base_uri": "https://localhost:8080/"
        },
        "id": "O5Tu3o1yLwVK",
        "outputId": "e5ca55a5-6f8f-41e7-9b8c-1d80193fd2b9"
      },
      "execution_count": 5,
      "outputs": [
        {
          "output_type": "execute_result",
          "data": {
            "text/plain": [
              "-2"
            ]
          },
          "metadata": {},
          "execution_count": 5
        }
      ]
    },
    {
      "cell_type": "code",
      "source": [
        "'1' - '3'  # - string ทำไม่ได้"
      ],
      "metadata": {
        "colab": {
          "base_uri": "https://localhost:8080/",
          "height": 171
        },
        "id": "LGM0K7mNLwS2",
        "outputId": "821ea36d-afc1-4116-a6fc-c8ce5d8afd94"
      },
      "execution_count": 6,
      "outputs": [
        {
          "output_type": "error",
          "ename": "TypeError",
          "evalue": "ignored",
          "traceback": [
            "\u001b[0;31m---------------------------------------------------------------------------\u001b[0m",
            "\u001b[0;31mTypeError\u001b[0m                                 Traceback (most recent call last)",
            "\u001b[0;32m<ipython-input-6-c900c9f04a3e>\u001b[0m in \u001b[0;36m<module>\u001b[0;34m()\u001b[0m\n\u001b[0;32m----> 1\u001b[0;31m \u001b[0;34m'1'\u001b[0m \u001b[0;34m-\u001b[0m \u001b[0;34m'3'\u001b[0m  \u001b[0;31m# - string ทำไม่ได้\u001b[0m\u001b[0;34m\u001b[0m\u001b[0;34m\u001b[0m\u001b[0m\n\u001b[0m",
            "\u001b[0;31mTypeError\u001b[0m: unsupported operand type(s) for -: 'str' and 'str'"
          ]
        }
      ]
    },
    {
      "cell_type": "markdown",
      "source": [
        "## Print(ข้อความ)\n",
        "`print(ข้อความ)`"
      ],
      "metadata": {
        "id": "16iRsIJoNGcW"
      }
    },
    {
      "cell_type": "code",
      "source": [
        "print('ข้อความที่อยากให้ print')"
      ],
      "metadata": {
        "colab": {
          "base_uri": "https://localhost:8080/"
        },
        "id": "RgCDewc2NKt1",
        "outputId": "42ea5945-d32a-4dfb-be66-0516fc020156"
      },
      "execution_count": 7,
      "outputs": [
        {
          "output_type": "stream",
          "name": "stdout",
          "text": [
            "ข้อความที่อยากให้ print\n"
          ]
        }
      ]
    },
    {
      "cell_type": "markdown",
      "source": [
        "# ตัวแปร (Variables)"
      ],
      "metadata": {
        "id": "YG13y4G7KJ6X"
      }
    },
    {
      "cell_type": "code",
      "source": [
        "vartest1 = 1 + 3  # กำหนดตัวแปรและใส่ค่า"
      ],
      "metadata": {
        "id": "tMsl8MncLdtC"
      },
      "execution_count": 8,
      "outputs": []
    },
    {
      "cell_type": "code",
      "source": [
        "vartest1  # วิธีที่ 1 แสดงผลของค่า"
      ],
      "metadata": {
        "colab": {
          "base_uri": "https://localhost:8080/"
        },
        "id": "Czb_1vVtN1dC",
        "outputId": "761a2539-45b8-4301-a81e-06697ab432ff"
      },
      "execution_count": 9,
      "outputs": [
        {
          "output_type": "execute_result",
          "data": {
            "text/plain": [
              "4"
            ]
          },
          "metadata": {},
          "execution_count": 9
        }
      ]
    },
    {
      "cell_type": "code",
      "source": [
        "print(vartest1)  # วิธีที่ 2 แสดงผลของค่า"
      ],
      "metadata": {
        "colab": {
          "base_uri": "https://localhost:8080/"
        },
        "id": "DupDaMzYN90V",
        "outputId": "fa0c9a66-07f3-4050-d938-9925fb310327"
      },
      "execution_count": 10,
      "outputs": [
        {
          "output_type": "stream",
          "name": "stdout",
          "text": [
            "4\n"
          ]
        }
      ]
    },
    {
      "cell_type": "code",
      "source": [
        "vartest2 = '1' + '3'  # กำหนดตัวแปรและใส่ string"
      ],
      "metadata": {
        "id": "ysTsA-DSOBxj"
      },
      "execution_count": 11,
      "outputs": []
    },
    {
      "cell_type": "code",
      "source": [
        "vartest2  # วิธีที่ 1 แสดงผลของค่า"
      ],
      "metadata": {
        "colab": {
          "base_uri": "https://localhost:8080/",
          "height": 35
        },
        "id": "eI7BxzzAOTWk",
        "outputId": "95bf6650-7565-4942-8d21-7c8ca11b4176"
      },
      "execution_count": 12,
      "outputs": [
        {
          "output_type": "execute_result",
          "data": {
            "application/vnd.google.colaboratory.intrinsic+json": {
              "type": "string"
            },
            "text/plain": [
              "'13'"
            ]
          },
          "metadata": {},
          "execution_count": 12
        }
      ]
    },
    {
      "cell_type": "code",
      "source": [
        "print(vartest2)  # วิธีที่ 2 แสดงผลของค่า"
      ],
      "metadata": {
        "colab": {
          "base_uri": "https://localhost:8080/"
        },
        "id": "EF3JpjRLOU1N",
        "outputId": "c715ab6b-77de-4a2a-a8f8-ff36edce4930"
      },
      "execution_count": 13,
      "outputs": [
        {
          "output_type": "stream",
          "name": "stdout",
          "text": [
            "13\n"
          ]
        }
      ]
    },
    {
      "cell_type": "markdown",
      "source": [
        "## ข้อกำหนดในการตั้งชื่อตัวแปร\n",
        "1. ตั้งให้สื่อความหมาย\n",
        "2. ต้องเป็นภาษาอังกฤษ\n",
        "3. ใช้ตัวเลขผสมกับตัวหนังสือได้ แต่ห้ามขึ้นต้นด้วยตัวเลข\n",
        "4. ห้ามมีเว้นวรรคในชื่อตัวแปร\n",
        "5. ตัวใหญ่\n"
      ],
      "metadata": {
        "id": "DOdDP_7COwe8"
      }
    },
    {
      "cell_type": "code",
      "source": [
        "1a = 7  # ใช้ตัวเลขผสมกับตัวหนังสือได้ แต่ห้ามขึ้นต้นด้วยตัวเลข"
      ],
      "metadata": {
        "colab": {
          "base_uri": "https://localhost:8080/",
          "height": 135
        },
        "id": "xzNG6tw3OXqB",
        "outputId": "20ef1cba-957b-4f65-923f-0bd965e150e8"
      },
      "execution_count": 14,
      "outputs": [
        {
          "output_type": "error",
          "ename": "SyntaxError",
          "evalue": "ignored",
          "traceback": [
            "\u001b[0;36m  File \u001b[0;32m\"<ipython-input-14-8d298d6312f1>\"\u001b[0;36m, line \u001b[0;32m1\u001b[0m\n\u001b[0;31m    1a = 7  # ใช้ตัวเลขผสมกับตัวหนังสือได้ แต่ห้ามขึ้นต้นด้วยตัวเลข\u001b[0m\n\u001b[0m     ^\u001b[0m\n\u001b[0;31mSyntaxError\u001b[0m\u001b[0;31m:\u001b[0m invalid syntax\n"
          ]
        }
      ]
    },
    {
      "cell_type": "code",
      "source": [
        "variable a = 1  # ห้ามมีเว้นวรรคในชื่อตัวแปร"
      ],
      "metadata": {
        "colab": {
          "base_uri": "https://localhost:8080/",
          "height": 135
        },
        "id": "JSYMcthHPWVi",
        "outputId": "3870a634-dc88-4240-b3c1-49e662fd2306"
      },
      "execution_count": 15,
      "outputs": [
        {
          "output_type": "error",
          "ename": "SyntaxError",
          "evalue": "ignored",
          "traceback": [
            "\u001b[0;36m  File \u001b[0;32m\"<ipython-input-15-7f81c5c07999>\"\u001b[0;36m, line \u001b[0;32m1\u001b[0m\n\u001b[0;31m    variable a = 1  # ห้ามมีเว้นวรรคในชื่อตัวแปร\u001b[0m\n\u001b[0m             ^\u001b[0m\n\u001b[0;31mSyntaxError\u001b[0m\u001b[0;31m:\u001b[0m invalid syntax\n"
          ]
        }
      ]
    },
    {
      "cell_type": "markdown",
      "source": [
        "## Advanced Printing\n",
        "เราสามารถ print ตัวแปรร่วมกับข้อความได้\n",
        "\n",
        "```python\n",
        "`print(f'ข้อความ{code}')`\n",
        "```"
      ],
      "metadata": {
        "id": "_CrQ2UEJP-Br"
      }
    },
    {
      "cell_type": "code",
      "source": [
        "print(f'หนึ่ง บวก สอง (1+2) เท่ากับ สาม ({1+2})')  # { } Curly Brackets"
      ],
      "metadata": {
        "colab": {
          "base_uri": "https://localhost:8080/"
        },
        "id": "LeDb53glPlHS",
        "outputId": "64cd8d67-d869-4f3c-b391-87912cf9f1fc"
      },
      "execution_count": 16,
      "outputs": [
        {
          "output_type": "stream",
          "name": "stdout",
          "text": [
            "หนึ่ง บวก สอง (1+2) เท่ากับ สาม (3)\n"
          ]
        }
      ]
    },
    {
      "cell_type": "code",
      "source": [
        "a = 1\n",
        "b = 2\n",
        "print(f'หนึ่ง บวก สอง ({a}+{b}) เท่ากับ สาม ({a+b})')"
      ],
      "metadata": {
        "colab": {
          "base_uri": "https://localhost:8080/"
        },
        "id": "7LrWx1gURJ1b",
        "outputId": "41511556-bf9f-494e-d220-14608ddad334"
      },
      "execution_count": 17,
      "outputs": [
        {
          "output_type": "stream",
          "name": "stdout",
          "text": [
            "หนึ่ง บวก สอง (1+2) เท่ากับ สาม (3)\n"
          ]
        }
      ]
    },
    {
      "cell_type": "code",
      "source": [
        "a = 5\n",
        "b = 2"
      ],
      "metadata": {
        "id": "9BgiqWd1Rq3j"
      },
      "execution_count": 18,
      "outputs": []
    },
    {
      "cell_type": "code",
      "source": [
        "print(f'{a}+{b} = {a+b}')"
      ],
      "metadata": {
        "colab": {
          "base_uri": "https://localhost:8080/"
        },
        "id": "rDU2s0zmRvzg",
        "outputId": "8528726f-c148-4309-cbd2-eee510d0d870"
      },
      "execution_count": 19,
      "outputs": [
        {
          "output_type": "stream",
          "name": "stdout",
          "text": [
            "5+2 = 7\n"
          ]
        }
      ]
    },
    {
      "cell_type": "markdown",
      "source": [
        "## ชนิดของตัวแปร"
      ],
      "metadata": {
        "id": "9zQFk8coUZUd"
      }
    },
    {
      "cell_type": "markdown",
      "source": [
        "### char(acter)(ตัวอักษร)"
      ],
      "metadata": {
        "id": "A7XGCzVtUp6r"
      }
    },
    {
      "cell_type": "code",
      "source": [
        "a = 'Ch'"
      ],
      "metadata": {
        "id": "B_SEIhmfR17_"
      },
      "execution_count": 20,
      "outputs": []
    },
    {
      "cell_type": "code",
      "source": [
        "b = 'aracter'"
      ],
      "metadata": {
        "id": "qiTfifyLU-KU"
      },
      "execution_count": 21,
      "outputs": []
    },
    {
      "cell_type": "code",
      "source": [
        "print(f'a={a} b={b}, then {a}+{b} = {a+b}')"
      ],
      "metadata": {
        "colab": {
          "base_uri": "https://localhost:8080/"
        },
        "id": "v_aJMQbHVB4_",
        "outputId": "6d9a0356-3918-4a1c-e38d-0df686baa2c9"
      },
      "execution_count": 22,
      "outputs": [
        {
          "output_type": "stream",
          "name": "stdout",
          "text": [
            "a=Ch b=aracter, then Ch+aracter = Character\n"
          ]
        }
      ]
    },
    {
      "cell_type": "code",
      "source": [
        "A = 'c'\n",
        "B = 'a'"
      ],
      "metadata": {
        "id": "LCcHhIJpVHYC"
      },
      "execution_count": 23,
      "outputs": []
    },
    {
      "cell_type": "code",
      "source": [
        "print(A+B)"
      ],
      "metadata": {
        "colab": {
          "base_uri": "https://localhost:8080/"
        },
        "id": "ABz6bUsQVj5e",
        "outputId": "3c78c339-636b-4c52-a716-4daeede24b0c"
      },
      "execution_count": 24,
      "outputs": [
        {
          "output_type": "stream",
          "name": "stdout",
          "text": [
            "ca\n"
          ]
        }
      ]
    },
    {
      "cell_type": "markdown",
      "source": [
        "### int(eger)(จำนวนเต็ม)"
      ],
      "metadata": {
        "id": "0S8BICe_WSrS"
      }
    },
    {
      "cell_type": "code",
      "source": [
        "int_a = 7\n",
        "int_b = 2"
      ],
      "metadata": {
        "id": "N9PpLM2kVnij"
      },
      "execution_count": 25,
      "outputs": []
    },
    {
      "cell_type": "code",
      "source": [
        "int_c = int_a + int_b\n",
        "print(int_c)"
      ],
      "metadata": {
        "colab": {
          "base_uri": "https://localhost:8080/"
        },
        "id": "vpm3_LxUWkhi",
        "outputId": "202de165-19e8-4ee5-8523-49167eb66a31"
      },
      "execution_count": 26,
      "outputs": [
        {
          "output_type": "stream",
          "name": "stdout",
          "text": [
            "9\n"
          ]
        }
      ]
    },
    {
      "cell_type": "markdown",
      "source": [
        "### float(จำนวนจริง ทศนิยม)"
      ],
      "metadata": {
        "id": "iGwlt0zWXmn4"
      }
    },
    {
      "cell_type": "code",
      "source": [
        "fl_a = 7.\n",
        "fl_b = 2.571"
      ],
      "metadata": {
        "id": "5XtZQsbjWn16"
      },
      "execution_count": 27,
      "outputs": []
    },
    {
      "cell_type": "code",
      "source": [
        "fl_a"
      ],
      "metadata": {
        "colab": {
          "base_uri": "https://localhost:8080/"
        },
        "id": "GH_6giUtX1d7",
        "outputId": "00d5f8dc-9b37-438d-e289-54be2d6b5542"
      },
      "execution_count": 28,
      "outputs": [
        {
          "output_type": "execute_result",
          "data": {
            "text/plain": [
              "7.0"
            ]
          },
          "metadata": {},
          "execution_count": 28
        }
      ]
    },
    {
      "cell_type": "code",
      "source": [
        "fl_b"
      ],
      "metadata": {
        "colab": {
          "base_uri": "https://localhost:8080/"
        },
        "id": "TBTjvH-RX2d4",
        "outputId": "839238d4-39bf-4d59-b7ae-f387e1adcf46"
      },
      "execution_count": 29,
      "outputs": [
        {
          "output_type": "execute_result",
          "data": {
            "text/plain": [
              "2.571"
            ]
          },
          "metadata": {},
          "execution_count": 29
        }
      ]
    },
    {
      "cell_type": "code",
      "source": [
        "print(fl_a)"
      ],
      "metadata": {
        "colab": {
          "base_uri": "https://localhost:8080/"
        },
        "id": "IN1tdCXmYjxD",
        "outputId": "9ce2ab5a-7e2f-43e5-8b80-540a10c04932"
      },
      "execution_count": 30,
      "outputs": [
        {
          "output_type": "stream",
          "name": "stdout",
          "text": [
            "7.0\n"
          ]
        }
      ]
    },
    {
      "cell_type": "code",
      "source": [
        "print(fl_a + fl_b)"
      ],
      "metadata": {
        "colab": {
          "base_uri": "https://localhost:8080/"
        },
        "id": "WjT5VbUiYaso",
        "outputId": "f99e1ce1-c092-40a9-d22f-e6f636d467f8"
      },
      "execution_count": 31,
      "outputs": [
        {
          "output_type": "stream",
          "name": "stdout",
          "text": [
            "9.571\n"
          ]
        }
      ]
    },
    {
      "cell_type": "markdown",
      "source": [
        "### boolean (ตัวแปรที่มีค่า True หรือ False) ตรรกศาสตร์"
      ],
      "metadata": {
        "id": "AwHJvlB-Zf3T"
      }
    },
    {
      "cell_type": "code",
      "source": [
        "b_T = True"
      ],
      "metadata": {
        "id": "NFETkqrTZe1I"
      },
      "execution_count": 32,
      "outputs": []
    },
    {
      "cell_type": "code",
      "source": [
        "b_F = False"
      ],
      "metadata": {
        "id": "umCWHj4fZ20g"
      },
      "execution_count": 33,
      "outputs": []
    },
    {
      "cell_type": "markdown",
      "source": [
        "### complex (จำนวนเชิงซ้อน)"
      ],
      "metadata": {
        "id": "vzjNIonSas_a"
      }
    },
    {
      "cell_type": "code",
      "source": [
        "x = 1 + 2j"
      ],
      "metadata": {
        "id": "KAifKvIwaTJq"
      },
      "execution_count": 34,
      "outputs": []
    },
    {
      "cell_type": "markdown",
      "source": [
        "เราสามารถตรวจสอบชนิดของตัวแปรด้วยคำสั่ง type()"
      ],
      "metadata": {
        "id": "434rami9bsDh"
      }
    },
    {
      "cell_type": "code",
      "source": [
        "type(x)"
      ],
      "metadata": {
        "colab": {
          "base_uri": "https://localhost:8080/"
        },
        "id": "-MSNhrf3a3Rz",
        "outputId": "25fb2222-9d2f-49bd-e103-1eda4ddea07a"
      },
      "execution_count": 35,
      "outputs": [
        {
          "output_type": "execute_result",
          "data": {
            "text/plain": [
              "complex"
            ]
          },
          "metadata": {},
          "execution_count": 35
        }
      ]
    },
    {
      "cell_type": "code",
      "source": [
        "print(f'ตัวแปร x ค่าคือ {x} ชนิด {type(x)}')"
      ],
      "metadata": {
        "colab": {
          "base_uri": "https://localhost:8080/"
        },
        "id": "yIycuwpbb6Do",
        "outputId": "c33bc4aa-983a-4b65-edea-b18576fc3935"
      },
      "execution_count": 36,
      "outputs": [
        {
          "output_type": "stream",
          "name": "stdout",
          "text": [
            "ตัวแปร x ค่าคือ (1+2j) ชนิด <class 'complex'>\n"
          ]
        }
      ]
    },
    {
      "cell_type": "code",
      "source": [
        "print(f'ตัวแปร A ค่าคือ {A} ชนิด {type(A)}')"
      ],
      "metadata": {
        "colab": {
          "base_uri": "https://localhost:8080/"
        },
        "id": "GkqJTrYLcIml",
        "outputId": "cb5835ac-1dbe-4b2e-bed0-5cb691a3ef8d"
      },
      "execution_count": 37,
      "outputs": [
        {
          "output_type": "stream",
          "name": "stdout",
          "text": [
            "ตัวแปร A ค่าคือ c ชนิด <class 'str'>\n"
          ]
        }
      ]
    },
    {
      "cell_type": "code",
      "source": [
        "print(f'ตัวแปร a ค่าคือ {a} ชนิด {type(a)}')"
      ],
      "metadata": {
        "colab": {
          "base_uri": "https://localhost:8080/"
        },
        "id": "ryfKhl42cXgN",
        "outputId": "96de241c-e843-4cbd-e5ca-d1c425e1c751"
      },
      "execution_count": 38,
      "outputs": [
        {
          "output_type": "stream",
          "name": "stdout",
          "text": [
            "ตัวแปร a ค่าคือ Ch ชนิด <class 'str'>\n"
          ]
        }
      ]
    },
    {
      "cell_type": "markdown",
      "source": [
        "## การแปลงชนิดของตัวแปร(Variable Casting)"
      ],
      "metadata": {
        "id": "FvmpJEx5cudK"
      }
    },
    {
      "cell_type": "code",
      "source": [
        "print(f'int_a = {int_a} int_b = {int_b} fl_a = {fl_a} fl_b = {fl_b}')"
      ],
      "metadata": {
        "colab": {
          "base_uri": "https://localhost:8080/"
        },
        "id": "Dx2-W1IodLLU",
        "outputId": "ef9ffd48-9da1-45d8-9f2f-83945106c18b"
      },
      "execution_count": 40,
      "outputs": [
        {
          "output_type": "stream",
          "name": "stdout",
          "text": [
            "int_a = 7 int_b = 2 fl_a = 7.0 fl_b = 2.571\n"
          ]
        }
      ]
    },
    {
      "cell_type": "code",
      "source": [
        "str_a = '6'\n",
        "str_b = '-2'"
      ],
      "metadata": {
        "id": "YtMdZ7kEdvdX"
      },
      "execution_count": 41,
      "outputs": []
    },
    {
      "cell_type": "code",
      "source": [
        "str_a2int = int(str_a)\n",
        "print(f'ตัวแปร str_a2int ค่าคือ {str_a2int} ชนิด {type(str_a2int)}')"
      ],
      "metadata": {
        "colab": {
          "base_uri": "https://localhost:8080/"
        },
        "id": "Yd_XWF33d3h3",
        "outputId": "651932bb-91de-459b-d92e-9db68892ec81"
      },
      "execution_count": 42,
      "outputs": [
        {
          "output_type": "stream",
          "name": "stdout",
          "text": [
            "ตัวแปร str_a2int ค่าคือ 6 ชนิด <class 'int'>\n"
          ]
        }
      ]
    },
    {
      "cell_type": "code",
      "source": [
        "str_a2int + int_a"
      ],
      "metadata": {
        "colab": {
          "base_uri": "https://localhost:8080/"
        },
        "id": "m-r9nHBReaZp",
        "outputId": "92c4b39c-dd39-4af3-e5d4-5559b6747939"
      },
      "execution_count": 43,
      "outputs": [
        {
          "output_type": "execute_result",
          "data": {
            "text/plain": [
              "13"
            ]
          },
          "metadata": {},
          "execution_count": 43
        }
      ]
    },
    {
      "cell_type": "code",
      "source": [
        "str_a + int_a"
      ],
      "metadata": {
        "colab": {
          "base_uri": "https://localhost:8080/",
          "height": 171
        },
        "id": "i4unJVNdeeoC",
        "outputId": "ef309976-5f18-4c4b-d497-c3ec33ed44ca"
      },
      "execution_count": 44,
      "outputs": [
        {
          "output_type": "error",
          "ename": "TypeError",
          "evalue": "ignored",
          "traceback": [
            "\u001b[0;31m---------------------------------------------------------------------------\u001b[0m",
            "\u001b[0;31mTypeError\u001b[0m                                 Traceback (most recent call last)",
            "\u001b[0;32m<ipython-input-44-f0968e4d612f>\u001b[0m in \u001b[0;36m<module>\u001b[0;34m()\u001b[0m\n\u001b[0;32m----> 1\u001b[0;31m \u001b[0mstr_a\u001b[0m \u001b[0;34m+\u001b[0m \u001b[0mint_a\u001b[0m\u001b[0;34m\u001b[0m\u001b[0;34m\u001b[0m\u001b[0m\n\u001b[0m",
            "\u001b[0;31mTypeError\u001b[0m: can only concatenate str (not \"int\") to str"
          ]
        }
      ]
    },
    {
      "cell_type": "code",
      "source": [
        "int_a + str_a"
      ],
      "metadata": {
        "colab": {
          "base_uri": "https://localhost:8080/",
          "height": 171
        },
        "id": "aUECRRStex3B",
        "outputId": "d598152b-adc8-4c65-c925-2a6d551aec36"
      },
      "execution_count": 45,
      "outputs": [
        {
          "output_type": "error",
          "ename": "TypeError",
          "evalue": "ignored",
          "traceback": [
            "\u001b[0;31m---------------------------------------------------------------------------\u001b[0m",
            "\u001b[0;31mTypeError\u001b[0m                                 Traceback (most recent call last)",
            "\u001b[0;32m<ipython-input-45-6d08941122bb>\u001b[0m in \u001b[0;36m<module>\u001b[0;34m()\u001b[0m\n\u001b[0;32m----> 1\u001b[0;31m \u001b[0mint_a\u001b[0m \u001b[0;34m+\u001b[0m \u001b[0mstr_a\u001b[0m\u001b[0;34m\u001b[0m\u001b[0;34m\u001b[0m\u001b[0m\n\u001b[0m",
            "\u001b[0;31mTypeError\u001b[0m: unsupported operand type(s) for +: 'int' and 'str'"
          ]
        }
      ]
    },
    {
      "cell_type": "code",
      "source": [
        "int(fl_b)  # ตัวเลข "
      ],
      "metadata": {
        "colab": {
          "base_uri": "https://localhost:8080/"
        },
        "id": "mBtxIs0ve1G9",
        "outputId": "01082417-b460-4512-dc7c-2c38f7e7bc9f"
      },
      "execution_count": 46,
      "outputs": [
        {
          "output_type": "execute_result",
          "data": {
            "text/plain": [
              "2"
            ]
          },
          "metadata": {},
          "execution_count": 46
        }
      ]
    },
    {
      "cell_type": "code",
      "source": [
        "float(int_a)  # ทศนิยม"
      ],
      "metadata": {
        "colab": {
          "base_uri": "https://localhost:8080/"
        },
        "id": "_VThGNeHfQLm",
        "outputId": "5ed0b284-5118-4437-f232-af8f52c59e7e"
      },
      "execution_count": 47,
      "outputs": [
        {
          "output_type": "execute_result",
          "data": {
            "text/plain": [
              "7.0"
            ]
          },
          "metadata": {},
          "execution_count": 47
        }
      ]
    },
    {
      "cell_type": "code",
      "source": [
        "str(fl_b)  # ข้อความ"
      ],
      "metadata": {
        "colab": {
          "base_uri": "https://localhost:8080/",
          "height": 35
        },
        "id": "cv_qX6zUfoaZ",
        "outputId": "16417983-03f6-4d8e-ca21-89bd1db8f574"
      },
      "execution_count": 48,
      "outputs": [
        {
          "output_type": "execute_result",
          "data": {
            "application/vnd.google.colaboratory.intrinsic+json": {
              "type": "string"
            },
            "text/plain": [
              "'2.571'"
            ]
          },
          "metadata": {},
          "execution_count": 48
        }
      ]
    },
    {
      "cell_type": "markdown",
      "source": [
        "## Operation เอาตัวแปรสองตัวมาทำอะไรกัน"
      ],
      "metadata": {
        "id": "eoUExQmSg3JB"
      }
    },
    {
      "cell_type": "markdown",
      "source": [
        "### Operators (บวก (+) , ลบ (-) , คูณ (*) , หาร (/) , modulo (%) , and (&) , or (|)"
      ],
      "metadata": {
        "id": "QvTlda8ogNus"
      }
    },
    {
      "cell_type": "code",
      "source": [
        "fl_a + int_b"
      ],
      "metadata": {
        "colab": {
          "base_uri": "https://localhost:8080/"
        },
        "id": "2zRQ908rg9wf",
        "outputId": "e297a4b9-5adc-463f-dbaa-5ce7ee9768e1"
      },
      "execution_count": 49,
      "outputs": [
        {
          "output_type": "execute_result",
          "data": {
            "text/plain": [
              "9.0"
            ]
          },
          "metadata": {},
          "execution_count": 49
        }
      ]
    },
    {
      "cell_type": "code",
      "source": [
        "9%2  # หารเอาเศษ"
      ],
      "metadata": {
        "colab": {
          "base_uri": "https://localhost:8080/"
        },
        "id": "2jQEljVQhDTD",
        "outputId": "5c7160a1-6d9d-4e0d-da9c-e587c00d4f6a"
      },
      "execution_count": 50,
      "outputs": [
        {
          "output_type": "execute_result",
          "data": {
            "text/plain": [
              "1"
            ]
          },
          "metadata": {},
          "execution_count": 50
        }
      ]
    },
    {
      "cell_type": "code",
      "source": [
        "100%2"
      ],
      "metadata": {
        "colab": {
          "base_uri": "https://localhost:8080/"
        },
        "id": "8TVEH_ZjhEtP",
        "outputId": "ec6c53a4-afee-4937-e347-7209e59856d8"
      },
      "execution_count": 51,
      "outputs": [
        {
          "output_type": "execute_result",
          "data": {
            "text/plain": [
              "0"
            ]
          },
          "metadata": {},
          "execution_count": 51
        }
      ]
    },
    {
      "cell_type": "code",
      "source": [
        "int_a/int_b"
      ],
      "metadata": {
        "colab": {
          "base_uri": "https://localhost:8080/"
        },
        "id": "S9MgkZJxhlaQ",
        "outputId": "6fa41b26-b52e-4dd9-d11c-081c84c28f9f"
      },
      "execution_count": 52,
      "outputs": [
        {
          "output_type": "execute_result",
          "data": {
            "text/plain": [
              "3.5"
            ]
          },
          "metadata": {},
          "execution_count": 52
        }
      ]
    },
    {
      "cell_type": "code",
      "source": [
        "int(int_a/int_b)  # หารเอาส่วน"
      ],
      "metadata": {
        "colab": {
          "base_uri": "https://localhost:8080/"
        },
        "id": "D6hCbhpmhpQ0",
        "outputId": "28c782bd-1b85-407c-fd5e-c7a49a6d6c43"
      },
      "execution_count": 55,
      "outputs": [
        {
          "output_type": "execute_result",
          "data": {
            "text/plain": [
              "3"
            ]
          },
          "metadata": {},
          "execution_count": 55
        }
      ]
    },
    {
      "cell_type": "code",
      "source": [
        "False&False  # และ"
      ],
      "metadata": {
        "colab": {
          "base_uri": "https://localhost:8080/"
        },
        "id": "ns_YDeCoiAT4",
        "outputId": "e3fd2c5c-05d9-480f-b29c-c5d581c775f6"
      },
      "execution_count": 56,
      "outputs": [
        {
          "output_type": "execute_result",
          "data": {
            "text/plain": [
              "False"
            ]
          },
          "metadata": {},
          "execution_count": 56
        }
      ]
    },
    {
      "cell_type": "code",
      "source": [
        "False&True  # และ"
      ],
      "metadata": {
        "colab": {
          "base_uri": "https://localhost:8080/"
        },
        "id": "UdbOk2TXiVc4",
        "outputId": "709827ef-fb84-4e9a-c325-05159b6fd3e0"
      },
      "execution_count": 57,
      "outputs": [
        {
          "output_type": "execute_result",
          "data": {
            "text/plain": [
              "False"
            ]
          },
          "metadata": {},
          "execution_count": 57
        }
      ]
    },
    {
      "cell_type": "code",
      "source": [
        "False|True  # หรือ"
      ],
      "metadata": {
        "colab": {
          "base_uri": "https://localhost:8080/"
        },
        "id": "68Z5ShbjiYt8",
        "outputId": "121bc9fd-5a6c-46d8-fc83-3ebee83658a5"
      },
      "execution_count": 58,
      "outputs": [
        {
          "output_type": "execute_result",
          "data": {
            "text/plain": [
              "True"
            ]
          },
          "metadata": {},
          "execution_count": 58
        }
      ]
    },
    {
      "cell_type": "markdown",
      "source": [
        "### String operation"
      ],
      "metadata": {
        "id": "a46pF4KdijL2"
      }
    }
  ]
}