{
  "nbformat": 4,
  "nbformat_minor": 0,
  "metadata": {
    "colab": {
      "name": "Basic Programming Concepts.ipynb",
      "provenance": [],
      "authorship_tag": "ABX9TyMQmXwnUIjeIxz8eH3LLIZY",
      "include_colab_link": true
    },
    "kernelspec": {
      "name": "python3",
      "display_name": "Python 3"
    },
    "language_info": {
      "name": "python"
    }
  },
  "cells": [
    {
      "cell_type": "markdown",
      "metadata": {
        "id": "view-in-github",
        "colab_type": "text"
      },
      "source": [
        "<a href=\"https://colab.research.google.com/github/mintra-tippayaratsontorn/data_viz_2022/blob/main/Basic_Programming_Concepts.ipynb\" target=\"_parent\"><img src=\"https://colab.research.google.com/assets/colab-badge.svg\" alt=\"Open In Colab\"/></a>"
      ]
    },
    {
      "cell_type": "markdown",
      "source": [
        "# Functions ($f(x)=y$)"
      ],
      "metadata": {
        "id": "tqgXsOA1DjTb"
      }
    },
    {
      "cell_type": "markdown",
      "source": [
        "```python\n",
        "def function_name(input_x):\n",
        "    # do something with input_x to get output_y\n",
        "    return output_y\n",
        "```"
      ],
      "metadata": {
        "id": "Pa0wITp-EHM_"
      }
    },
    {
      "cell_type": "markdown",
      "source": [
        "$f_1(x) = x^2 + 75$"
      ],
      "metadata": {
        "id": "VvW7byszFywf"
      }
    },
    {
      "cell_type": "code",
      "source": [
        "def function_f1(x):\n",
        "    a = x**2  # ยกกำลังของ python โดยใช้ **\n",
        "    y = a + 75\n",
        "    return y\n",
        "\n",
        "print('done!')"
      ],
      "metadata": {
        "colab": {
          "base_uri": "https://localhost:8080/"
        },
        "id": "g3dDkLMsD8Eo",
        "outputId": "bf6d0ebd-e62f-44f0-9cf0-fcc03bf22d57"
      },
      "execution_count": 1,
      "outputs": [
        {
          "output_type": "stream",
          "name": "stdout",
          "text": [
            "done!\n"
          ]
        }
      ]
    },
    {
      "cell_type": "code",
      "source": [
        "function_f1(3)"
      ],
      "metadata": {
        "colab": {
          "base_uri": "https://localhost:8080/"
        },
        "id": "sv3b_jaeD77c",
        "outputId": "08380508-898e-4e6f-8e91-90d49f86bcc7"
      },
      "execution_count": 2,
      "outputs": [
        {
          "output_type": "execute_result",
          "data": {
            "text/plain": [
              "84"
            ]
          },
          "metadata": {},
          "execution_count": 2
        }
      ]
    },
    {
      "cell_type": "markdown",
      "source": [
        "function มีส่วนสำคัญทั้งหมด 4 ส่วน\n",
        "1. บอก python ว่าเราจะเขียนฟังก์ชั่นชื่ออะไร `def function_name():` (ขาดไม่ได้)\n",
        "2. กำหนดตัวแปรที่จะเป็น input *Input* (ขาดได้)\n",
        "3. ส่วนประมวลผล do something with *Input* to get *Output* (ขาดไม่ได้)\n",
        "4. ส่วน output `return` (ขาดได้)"
      ],
      "metadata": {
        "id": "3dDcCajaHUXo"
      }
    },
    {
      "cell_type": "markdown",
      "source": [
        "### ตัวอย่าง function ที่มีส่วนประกอบครบ"
      ],
      "metadata": {
        "id": "mIc0RDknH8KT"
      }
    },
    {
      "cell_type": "code",
      "source": [
        "def function_f1(x):\n",
        "    a = x**2\n",
        "    y = a + 75\n",
        "    return y"
      ],
      "metadata": {
        "id": "qsTS7Ig-D71q"
      },
      "execution_count": 3,
      "outputs": []
    },
    {
      "cell_type": "markdown",
      "source": [
        "### ตัวอย่าง function ที่ไม่มี input"
      ],
      "metadata": {
        "id": "MnfarQkAIcZU"
      }
    },
    {
      "cell_type": "code",
      "source": [
        "def pi_v():\n",
        "    y = 3.14159265359\n",
        "    return y"
      ],
      "metadata": {
        "id": "yq4QPp7ZD7zR"
      },
      "execution_count": 4,
      "outputs": []
    },
    {
      "cell_type": "code",
      "source": [
        "piv = pi_v()\n",
        "circle_area_r2 = pi_v()*(2**2)\n",
        "print(circle_area_r2)"
      ],
      "metadata": {
        "colab": {
          "base_uri": "https://localhost:8080/"
        },
        "id": "bhVp72WND6We",
        "outputId": "034c28f0-381a-49d1-ab69-d1f0146a81ee"
      },
      "execution_count": 5,
      "outputs": [
        {
          "output_type": "stream",
          "name": "stdout",
          "text": [
            "12.56637061436\n"
          ]
        }
      ]
    },
    {
      "cell_type": "markdown",
      "source": [
        "### ตัวอย่าง function ไม่มี process ไม่ได้"
      ],
      "metadata": {
        "id": "D_H2wXAUJgCB"
      }
    },
    {
      "cell_type": "code",
      "source": [
        "def function_a():"
      ],
      "metadata": {
        "colab": {
          "base_uri": "https://localhost:8080/",
          "height": 130
        },
        "id": "4Z9ezt14D6US",
        "outputId": "fa17657e-14a6-492b-be53-7e32e6586aa0"
      },
      "execution_count": 6,
      "outputs": [
        {
          "output_type": "error",
          "ename": "SyntaxError",
          "evalue": "ignored",
          "traceback": [
            "\u001b[0;36m  File \u001b[0;32m\"<ipython-input-6-07a0750214a8>\"\u001b[0;36m, line \u001b[0;32m1\u001b[0m\n\u001b[0;31m    def function_a():\u001b[0m\n\u001b[0m                     ^\u001b[0m\n\u001b[0;31mSyntaxError\u001b[0m\u001b[0;31m:\u001b[0m unexpected EOF while parsing\n"
          ]
        }
      ]
    },
    {
      "cell_type": "markdown",
      "source": [
        "### ตัวอย่าง function ที่ไม่มี output"
      ],
      "metadata": {
        "id": "gewhH8CMJlvl"
      }
    },
    {
      "cell_type": "code",
      "source": [
        "def print_name_id(name,id):\n",
        "    print(f'ชื่อ {name} รหัสประจำตัว {id}')"
      ],
      "metadata": {
        "id": "-afjjkEkD6SC"
      },
      "execution_count": 7,
      "outputs": []
    },
    {
      "cell_type": "code",
      "source": [
        "print_name_id('มินตรา','623020041-2')"
      ],
      "metadata": {
        "colab": {
          "base_uri": "https://localhost:8080/"
        },
        "id": "lM119norJ99u",
        "outputId": "64982ecd-5eec-4c2f-c6de-f1af5be2e99f"
      },
      "execution_count": 8,
      "outputs": [
        {
          "output_type": "stream",
          "name": "stdout",
          "text": [
            "ชื่อ มินตรา รหัสประจำตัว 623020041-2\n"
          ]
        }
      ]
    },
    {
      "cell_type": "code",
      "source": [
        "a = print_name_id('มินตรา','623020041-2')"
      ],
      "metadata": {
        "colab": {
          "base_uri": "https://localhost:8080/"
        },
        "id": "idCcmbDlKdDO",
        "outputId": "80b17ae4-f689-4bed-d580-60940f671b38"
      },
      "execution_count": 9,
      "outputs": [
        {
          "output_type": "stream",
          "name": "stdout",
          "text": [
            "ชื่อ มินตรา รหัสประจำตัว 623020041-2\n"
          ]
        }
      ]
    },
    {
      "cell_type": "code",
      "source": [
        "a"
      ],
      "metadata": {
        "id": "TPL-ngruKdAX"
      },
      "execution_count": 10,
      "outputs": []
    },
    {
      "cell_type": "markdown",
      "source": [
        "### ตัวอย่าง function `print`\n",
        "\n",
        "https://www.programiz.com/python-programming/methods/built-in/print"
      ],
      "metadata": {
        "id": "UtgBFsu0O0zz"
      }
    },
    {
      "cell_type": "code",
      "source": [
        "print('มินตรา')\n",
        "print('623020041-2')"
      ],
      "metadata": {
        "colab": {
          "base_uri": "https://localhost:8080/"
        },
        "id": "AwBNK2JCO_LC",
        "outputId": "469b974c-0bc4-402f-f4cf-1237dbe45435"
      },
      "execution_count": 11,
      "outputs": [
        {
          "output_type": "stream",
          "name": "stdout",
          "text": [
            "มินตรา\n",
            "623020041-2\n"
          ]
        }
      ]
    },
    {
      "cell_type": "code",
      "source": [
        "print('มินตรา',end='->')\n",
        "print('623020041-2')"
      ],
      "metadata": {
        "colab": {
          "base_uri": "https://localhost:8080/"
        },
        "id": "UywzH23OO_I1",
        "outputId": "3ebd5e2c-9c6e-4c60-f8b0-1d1e8f25ad6c"
      },
      "execution_count": 12,
      "outputs": [
        {
          "output_type": "stream",
          "name": "stdout",
          "text": [
            "มินตรา->623020041-2\n"
          ]
        }
      ]
    },
    {
      "cell_type": "code",
      "source": [
        "print('มินตรา','623020041-2')  # เว้นวรรคให้"
      ],
      "metadata": {
        "colab": {
          "base_uri": "https://localhost:8080/"
        },
        "id": "dNEb0j85O_Gd",
        "outputId": "60eebb32-0ecb-4571-cb2d-d1c2f46ebe7b"
      },
      "execution_count": 13,
      "outputs": [
        {
          "output_type": "stream",
          "name": "stdout",
          "text": [
            "มินตรา 623020041-2\n"
          ]
        }
      ]
    },
    {
      "cell_type": "code",
      "source": [
        "print('มินตรา','623020041-2',sep=' & ')  # กำหนดตัวขั้นคำ"
      ],
      "metadata": {
        "colab": {
          "base_uri": "https://localhost:8080/"
        },
        "id": "1_Yxn7DcPnuJ",
        "outputId": "755d66a5-8720-4aa6-c23c-7e5e596946fa"
      },
      "execution_count": 14,
      "outputs": [
        {
          "output_type": "stream",
          "name": "stdout",
          "text": [
            "มินตรา & 623020041-2\n"
          ]
        }
      ]
    },
    {
      "cell_type": "markdown",
      "source": [
        "## input ของ function แบ่งเป็น 2 ชนิด (จำเป็นต้องใส่ กับ ไม่จำเป็นต้องใส่)"
      ],
      "metadata": {
        "id": "6wIxqHotQC9w"
      }
    },
    {
      "cell_type": "markdown",
      "source": [
        "ตัวอย่าง function `print_grade()` มี input 3 ตัว จำเป็นต้องใส่ 2 ตัว คือ name กับ id และไม่จำเป็นต้องใส่ 1 ตัว คือเกรด ซึ่งมีค่า default เป็น F"
      ],
      "metadata": {
        "id": "PGFTGkxVRBQs"
      }
    },
    {
      "cell_type": "code",
      "source": [
        "def print_grade(name,id,grade = 'F'):\n",
        "    print(f'รหัสประจำตัว {id} ชื่อ {name}')\n",
        "    print(f'ได้เกรด {grade}')"
      ],
      "metadata": {
        "id": "NQ7scHBAPnrh"
      },
      "execution_count": 15,
      "outputs": []
    },
    {
      "cell_type": "code",
      "source": [
        "print_grade('มินตรา','623020041-2')  # ถ้าไม่ใส่ค่าที่ 3 มันจะใส่ค่า default มาให้"
      ],
      "metadata": {
        "colab": {
          "base_uri": "https://localhost:8080/"
        },
        "id": "qixfwwK6RrIM",
        "outputId": "fbcd3293-b759-4506-b57f-c60d9b65aee4"
      },
      "execution_count": 16,
      "outputs": [
        {
          "output_type": "stream",
          "name": "stdout",
          "text": [
            "รหัสประจำตัว 623020041-2 ชื่อ มินตรา\n",
            "ได้เกรด F\n"
          ]
        }
      ]
    },
    {
      "cell_type": "code",
      "source": [
        "print_grade('มินตรา','623020041-2','A')  # ใส่ค่าที่ 3"
      ],
      "metadata": {
        "colab": {
          "base_uri": "https://localhost:8080/"
        },
        "id": "Wc3s17OBR0qI",
        "outputId": "4ee8a605-164a-443b-ee67-5fbbe6272c07"
      },
      "execution_count": 17,
      "outputs": [
        {
          "output_type": "stream",
          "name": "stdout",
          "text": [
            "รหัสประจำตัว 623020041-2 ชื่อ มินตรา\n",
            "ได้เกรด A\n"
          ]
        }
      ]
    },
    {
      "cell_type": "code",
      "source": [
        "print_grade(name='มินตรา',id='623020041-2',grade='B+')  # ใส่ตามรูปแบบที่กำหนด"
      ],
      "metadata": {
        "colab": {
          "base_uri": "https://localhost:8080/"
        },
        "id": "LKTQ3bjWR0mw",
        "outputId": "12cd9605-68a2-4215-bd7f-86eebfe7d965"
      },
      "execution_count": 18,
      "outputs": [
        {
          "output_type": "stream",
          "name": "stdout",
          "text": [
            "รหัสประจำตัว 623020041-2 ชื่อ มินตรา\n",
            "ได้เกรด B+\n"
          ]
        }
      ]
    },
    {
      "cell_type": "markdown",
      "source": [
        "# Looping (for)"
      ],
      "metadata": {
        "id": "oftsaazLDm1y"
      }
    },
    {
      "cell_type": "markdown",
      "source": [
        "```python\n",
        "for member in listEx:\n",
        "    do something()\n",
        "```"
      ],
      "metadata": {
        "id": "76NDjVqRTdFT"
      }
    },
    {
      "cell_type": "code",
      "source": [
        "for member in [1,2,3,4,5,6]:\n",
        "    print(member)"
      ],
      "metadata": {
        "id": "rDCfsDMyD6_A",
        "colab": {
          "base_uri": "https://localhost:8080/"
        },
        "outputId": "c16fd451-fd70-4d5f-ffd4-12c30c9caf54"
      },
      "execution_count": 19,
      "outputs": [
        {
          "output_type": "stream",
          "name": "stdout",
          "text": [
            "1\n",
            "2\n",
            "3\n",
            "4\n",
            "5\n",
            "6\n"
          ]
        }
      ]
    },
    {
      "cell_type": "code",
      "source": [
        "def print_name(name):\n",
        "    print(f'ฉันชื่อ {name}')"
      ],
      "metadata": {
        "id": "k5jglVh1UZwb"
      },
      "execution_count": 20,
      "outputs": []
    },
    {
      "cell_type": "code",
      "source": [
        "for name in ['วัชราภรณ์','จุฑากาญจน์','ชลธิชา','ญาดา','กิตติคุณ']:\n",
        "    N = name\n",
        "    print_name(N)"
      ],
      "metadata": {
        "colab": {
          "base_uri": "https://localhost:8080/"
        },
        "id": "rg_u47ZdUZtq",
        "outputId": "5b4346dc-875f-44c1-df68-3b23b20b0929"
      },
      "execution_count": 21,
      "outputs": [
        {
          "output_type": "stream",
          "name": "stdout",
          "text": [
            "ฉันชื่อ วัชราภรณ์\n",
            "ฉันชื่อ จุฑากาญจน์\n",
            "ฉันชื่อ ชลธิชา\n",
            "ฉันชื่อ ญาดา\n",
            "ฉันชื่อ กิตติคุณ\n"
          ]
        }
      ]
    },
    {
      "cell_type": "code",
      "source": [
        "list_name_id_grade = [['นางสาวเบญญาภา ระภูเขียว','623020527-6','B'],\n",
        "                      ['นางสาวทักษิณา ราชหุ่น','623021000-1','A'],\n",
        "                      ['นางสาวปลายฟ้า คำเพ็ง','623021005-1','C']]"
      ],
      "metadata": {
        "id": "rSEIjgHGUZrG"
      },
      "execution_count": 22,
      "outputs": []
    },
    {
      "cell_type": "code",
      "source": [
        "for each in list_name_id_grade:\n",
        "    name = each[0]\n",
        "    id = each[1]\n",
        "    grade = each[2]\n",
        "    print_grade(name,id,grade)\n",
        "    print('------------------')"
      ],
      "metadata": {
        "colab": {
          "base_uri": "https://localhost:8080/"
        },
        "id": "SO4GZr7GUY22",
        "outputId": "1c79a842-2897-42d5-94b0-0597e94fbcac"
      },
      "execution_count": 23,
      "outputs": [
        {
          "output_type": "stream",
          "name": "stdout",
          "text": [
            "รหัสประจำตัว 623020527-6 ชื่อ นางสาวเบญญาภา ระภูเขียว\n",
            "ได้เกรด B\n",
            "------------------\n",
            "รหัสประจำตัว 623021000-1 ชื่อ นางสาวทักษิณา ราชหุ่น\n",
            "ได้เกรด A\n",
            "------------------\n",
            "รหัสประจำตัว 623021005-1 ชื่อ นางสาวปลายฟ้า คำเพ็ง\n",
            "ได้เกรด C\n",
            "------------------\n"
          ]
        }
      ]
    },
    {
      "cell_type": "markdown",
      "source": [
        "### ใช้ for loop เพิ่มสมาชิกใน list"
      ],
      "metadata": {
        "id": "k8OmmaGuYWBC"
      }
    },
    {
      "cell_type": "code",
      "source": [
        "list_name = []\n",
        "list_id = []\n",
        "list_grade = []\n",
        "for each in list_name_id_grade:\n",
        "    list_name.append(each[0])\n",
        "    list_id.append(each[1])\n",
        "    list_grade.append(each[2])"
      ],
      "metadata": {
        "id": "i3iH3kj1Yjmu"
      },
      "execution_count": 24,
      "outputs": []
    },
    {
      "cell_type": "code",
      "source": [
        "list_name"
      ],
      "metadata": {
        "colab": {
          "base_uri": "https://localhost:8080/"
        },
        "id": "Dec8eyKIYV1m",
        "outputId": "79d38235-62bb-4052-e6b7-7dae24dd4f24"
      },
      "execution_count": 25,
      "outputs": [
        {
          "output_type": "execute_result",
          "data": {
            "text/plain": [
              "['นางสาวเบญญาภา ระภูเขียว', 'นางสาวทักษิณา ราชหุ่น', 'นางสาวปลายฟ้า คำเพ็ง']"
            ]
          },
          "metadata": {},
          "execution_count": 25
        }
      ]
    },
    {
      "cell_type": "markdown",
      "source": [
        "### การวนลูปด้วย `range()`"
      ],
      "metadata": {
        "id": "gldNHqirbbTx"
      }
    },
    {
      "cell_type": "code",
      "source": [
        "for i in range(100):  # print วน 100 รอบ\n",
        "    print('งง', end=' ')"
      ],
      "metadata": {
        "colab": {
          "base_uri": "https://localhost:8080/"
        },
        "id": "KJELQtJibbHo",
        "outputId": "428e0381-a15e-4696-c7ef-1d123fca88f2"
      },
      "execution_count": 26,
      "outputs": [
        {
          "output_type": "stream",
          "name": "stdout",
          "text": [
            "งง งง งง งง งง งง งง งง งง งง งง งง งง งง งง งง งง งง งง งง งง งง งง งง งง งง งง งง งง งง งง งง งง งง งง งง งง งง งง งง งง งง งง งง งง งง งง งง งง งง งง งง งง งง งง งง งง งง งง งง งง งง งง งง งง งง งง งง งง งง งง งง งง งง งง งง งง งง งง งง งง งง งง งง งง งง งง งง งง งง งง งง งง งง งง งง งง งง งง งง "
          ]
        }
      ]
    },
    {
      "cell_type": "markdown",
      "source": [
        "### Loop ซ้อน Loop"
      ],
      "metadata": {
        "id": "hpfvCZDdcXC_"
      }
    },
    {
      "cell_type": "code",
      "source": [
        "# ให้วนลูปเป็นแม่สูตรคูณ\n",
        "for mem1 in range(2,5):  # [2,3,4]\n",
        "    print(f'now mem1 = {mem1}')\n",
        "    for mem2 in range(1,13):  # [1,2,3,4,5,6,7,8,9,10,11,12]\n",
        "        print(f'{mem1} x {mem2} = {mem1*mem2}')\n",
        "    print(f'end inner for mem1 = {mem1}')"
      ],
      "metadata": {
        "colab": {
          "base_uri": "https://localhost:8080/"
        },
        "id": "HDF6BEHObbFW",
        "outputId": "be672dcf-bf94-44a9-8e96-818fb4edaada"
      },
      "execution_count": 27,
      "outputs": [
        {
          "output_type": "stream",
          "name": "stdout",
          "text": [
            "now mem1 = 2\n",
            "2 x 1 = 2\n",
            "2 x 2 = 4\n",
            "2 x 3 = 6\n",
            "2 x 4 = 8\n",
            "2 x 5 = 10\n",
            "2 x 6 = 12\n",
            "2 x 7 = 14\n",
            "2 x 8 = 16\n",
            "2 x 9 = 18\n",
            "2 x 10 = 20\n",
            "2 x 11 = 22\n",
            "2 x 12 = 24\n",
            "end inner for mem1 = 2\n",
            "now mem1 = 3\n",
            "3 x 1 = 3\n",
            "3 x 2 = 6\n",
            "3 x 3 = 9\n",
            "3 x 4 = 12\n",
            "3 x 5 = 15\n",
            "3 x 6 = 18\n",
            "3 x 7 = 21\n",
            "3 x 8 = 24\n",
            "3 x 9 = 27\n",
            "3 x 10 = 30\n",
            "3 x 11 = 33\n",
            "3 x 12 = 36\n",
            "end inner for mem1 = 3\n",
            "now mem1 = 4\n",
            "4 x 1 = 4\n",
            "4 x 2 = 8\n",
            "4 x 3 = 12\n",
            "4 x 4 = 16\n",
            "4 x 5 = 20\n",
            "4 x 6 = 24\n",
            "4 x 7 = 28\n",
            "4 x 8 = 32\n",
            "4 x 9 = 36\n",
            "4 x 10 = 40\n",
            "4 x 11 = 44\n",
            "4 x 12 = 48\n",
            "end inner for mem1 = 4\n"
          ]
        }
      ]
    },
    {
      "cell_type": "markdown",
      "source": [
        "### Loop in Function"
      ],
      "metadata": {
        "id": "rrHXJkl4f_Ct"
      }
    },
    {
      "cell_type": "code",
      "source": [
        "def print_grade_loop(names,grades):\n",
        "    for n,g in zip(names,grades):\n",
        "        print(f'{n} ได้เกรด {g}')"
      ],
      "metadata": {
        "id": "2dbJ8UZ-cdRu"
      },
      "execution_count": 28,
      "outputs": []
    },
    {
      "cell_type": "code",
      "source": [
        "print_grade_loop(list_name,list_grade)"
      ],
      "metadata": {
        "colab": {
          "base_uri": "https://localhost:8080/"
        },
        "id": "1k0KbSsrcdPn",
        "outputId": "84cb6fdf-cb43-462c-fe1e-8ed536287ac1"
      },
      "execution_count": 29,
      "outputs": [
        {
          "output_type": "stream",
          "name": "stdout",
          "text": [
            "นางสาวเบญญาภา ระภูเขียว ได้เกรด B\n",
            "นางสาวทักษิณา ราชหุ่น ได้เกรด A\n",
            "นางสาวปลายฟ้า คำเพ็ง ได้เกรด C\n"
          ]
        }
      ]
    },
    {
      "cell_type": "markdown",
      "source": [
        "# Conditional Statement (if)"
      ],
      "metadata": {
        "id": "GGqqLU1ODqxO"
      }
    },
    {
      "cell_type": "markdown",
      "source": [
        "```python\n",
        "if condition1:\n",
        "    do_something()  # ถ้า condition1 เป็นจริง ทำ do_something()\n",
        "elif condition2:\n",
        "    do_another_thing()  # ถ้า condition1 ไม่เป็นจริงแต่ ทำ condition2 เป็นจริง ทำ do_another_thing()\n",
        "else:\n",
        "    do_the_last_thing()  # ถ้าไม่มี condition ไหนเป็นจริง ทำ do_the_last_thing()\n",
        "```"
      ],
      "metadata": {
        "id": "5E72Y8VhhsuV"
      }
    },
    {
      "cell_type": "code",
      "execution_count": 30,
      "metadata": {
        "id": "rcDuAZV-DPvf",
        "colab": {
          "base_uri": "https://localhost:8080/"
        },
        "outputId": "a334f471-c930-4ad5-ef9e-16c6db32e194"
      },
      "outputs": [
        {
          "output_type": "stream",
          "name": "stdout",
          "text": [
            "นางสาวเบญญาภา ระภูเขียว ได้เกรด A\n",
            "นางสาวทักษิณา ราชหุ่น ได้เกรด A\n",
            "นางสาวปลายฟ้า คำเพ็ง ได้เกรด F\n"
          ]
        }
      ],
      "source": [
        "for n in list_name:\n",
        "    if len(n)>20:\n",
        "        print(f'{n} ได้เกรด A')\n",
        "    else:\n",
        "        print(f'{n} ได้เกรด F')"
      ]
    },
    {
      "cell_type": "markdown",
      "source": [
        "### operation ที่ใช้ตรวจสอบ condition\n",
        "\n",
        "== , != , >= , <= , < , > , and , or"
      ],
      "metadata": {
        "id": "fAwPaVm5kFw8"
      }
    },
    {
      "cell_type": "code",
      "source": [
        "a = 10 == 20\n",
        "a"
      ],
      "metadata": {
        "colab": {
          "base_uri": "https://localhost:8080/"
        },
        "id": "z3AFCEPQjzZB",
        "outputId": "f9cdac40-87d4-49c1-e9f4-4857768eca2a"
      },
      "execution_count": 31,
      "outputs": [
        {
          "output_type": "execute_result",
          "data": {
            "text/plain": [
              "False"
            ]
          },
          "metadata": {},
          "execution_count": 31
        }
      ]
    },
    {
      "cell_type": "code",
      "source": [
        "b = 15 <= 20\n",
        "b"
      ],
      "metadata": {
        "colab": {
          "base_uri": "https://localhost:8080/"
        },
        "id": "QdgnSm9BkWRT",
        "outputId": "12676f60-511f-416e-9afd-07523624bab4"
      },
      "execution_count": 32,
      "outputs": [
        {
          "output_type": "execute_result",
          "data": {
            "text/plain": [
              "True"
            ]
          },
          "metadata": {},
          "execution_count": 32
        }
      ]
    },
    {
      "cell_type": "code",
      "source": [
        "if a:\n",
        "    print('x')"
      ],
      "metadata": {
        "id": "v0x7Pw0JkWPX"
      },
      "execution_count": 33,
      "outputs": []
    },
    {
      "cell_type": "code",
      "source": [
        "if True:\n",
        "    print('x')"
      ],
      "metadata": {
        "colab": {
          "base_uri": "https://localhost:8080/"
        },
        "id": "t3LmeORUlC_v",
        "outputId": "485262cf-09a3-445b-998b-cd2848aa736b"
      },
      "execution_count": 34,
      "outputs": [
        {
          "output_type": "stream",
          "name": "stdout",
          "text": [
            "x\n"
          ]
        }
      ]
    },
    {
      "cell_type": "code",
      "source": [
        "if a and b:\n",
        "    print('x')"
      ],
      "metadata": {
        "id": "7Gf13zt-lHkv"
      },
      "execution_count": 35,
      "outputs": []
    },
    {
      "cell_type": "code",
      "source": [
        "if a or b:\n",
        "    print('x')"
      ],
      "metadata": {
        "colab": {
          "base_uri": "https://localhost:8080/"
        },
        "id": "Mxlnu5IGlUGn",
        "outputId": "a36b8239-abc8-48f7-caba-6330717a106b"
      },
      "execution_count": 36,
      "outputs": [
        {
          "output_type": "stream",
          "name": "stdout",
          "text": [
            "x\n"
          ]
        }
      ]
    },
    {
      "cell_type": "markdown",
      "source": [
        "# HW4\n",
        "\n",
        "เขียน function ตัดเกรด โดยที่ input เป็นคะแนน(0-100) , output เป็นเกรด (F-A) หรือ 'ไม่สามารถตัดเกรดได้'\n",
        "\n",
        "วนลูปตัดเกรด input = [1,50,65,90,101,-5,49,'ก',80]\n",
        "\n",
        "กำหนด\n",
        "* ถ้าคะแนนอยู่ระหว่างมากกว่าหรือเท่ากับ  0 แต่น้อยกว่า 50 จะได้เกรด F\n",
        "* ถ้าคะแนนอยู่ระหว่างมากกว่าหรือเท่ากับ 50 แต่น้อยกว่า 55 จะได้เกรด D\n",
        "* ถ้าคะแนนอยู่ระหว่างมากกว่าหรือเท่ากับ 55 แต่น้อยกว่า 60 จะได้เกรด D+\n",
        "* ถ้าคะแนนอยู่ระหว่างมากกว่าหรือเท่ากับ 60 แต่น้อยกว่า 65 จะได้เกรด C\n",
        "* ถ้าคะแนนอยู่ระหว่างมากกว่าหรือเท่ากับ 65 แต่น้อยกว่า 70 จะได้เกรด C+\n",
        "* ถ้าคะแนนอยู่ระหว่างมากกว่าหรือเท่ากับ 70 แต่น้อยกว่า 75 จะได้เกรด B\n",
        "* ถ้าคะแนนอยู่ระหว่างมากกว่าหรือเท่ากับ 75 แต่น้อยกว่า 80 จะได้เกรด B+\n",
        "* ถ้าคะแนนอยู่ระหว่างมากกว่าหรือเท่ากับ 80 จะได้เกรด A\n",
        "* ถ้าคะแนนไม่อยู่ในช่วง 0-100 ให้ return 'ไม่สามารถตัดเกรดได้'\n",
        "\n"
      ],
      "metadata": {
        "id": "UZ9VxyKklofM"
      }
    },
    {
      "cell_type": "code",
      "source": [
        "score_hw = [1,50,65,90,101,-5,49,'ก',80]\n",
        "\n",
        "for n in score_hw:\n",
        "    if type(n) == type(''):\n",
        "        print(f'คะแนน {n} ไม่สามารถตัดเกรดได้')\n",
        "    else:\n",
        "        if n >= 80:\n",
        "            print(f'คะแนน {n} ได้เกรด A')\n",
        "        elif n >= 75:\n",
        "            print(f'คะแนน {n} ได้เกรด B+')\n",
        "        elif n >= 70:\n",
        "           print(f'คะแนน {n} ได้เกรด B')\n",
        "        elif n >= 65:\n",
        "            print(f'คะแนน {n} ได้เกรด C+')\n",
        "        elif n >= 60:\n",
        "            print(f'คะแนน {n} ได้เกรด C')\n",
        "        elif n >= 55:\n",
        "            print(f'คะแนน {n} ได้เกรด D+')\n",
        "        elif n >= 50:\n",
        "            print(f'คะแนน {n} ได้เกรด D')\n",
        "        elif n >= 0:\n",
        "            print(f'คะแนน {n} ได้เกรด F')\n",
        "        else:\n",
        "            print(f'คะแนน {n} ไม่สามารถตัดเกรดได้')\n",
        "    print('=========================')"
      ],
      "metadata": {
        "id": "cPAjgkWrqhGJ",
        "outputId": "cb1dab81-7864-4fe2-8940-e6ebe72dd662",
        "colab": {
          "base_uri": "https://localhost:8080/"
        }
      },
      "execution_count": 37,
      "outputs": [
        {
          "output_type": "stream",
          "name": "stdout",
          "text": [
            "คะแนน 1 ได้เกรด F\n",
            "=========================\n",
            "คะแนน 50 ได้เกรด D\n",
            "=========================\n",
            "คะแนน 65 ได้เกรด C+\n",
            "=========================\n",
            "คะแนน 90 ได้เกรด A\n",
            "=========================\n",
            "คะแนน 101 ได้เกรด A\n",
            "=========================\n",
            "คะแนน -5 ไม่สามารถตัดเกรดได้\n",
            "=========================\n",
            "คะแนน 49 ได้เกรด F\n",
            "=========================\n",
            "คะแนน ก ไม่สามารถตัดเกรดได้\n",
            "=========================\n",
            "คะแนน 80 ได้เกรด A\n",
            "=========================\n"
          ]
        }
      ]
    }
  ]
}