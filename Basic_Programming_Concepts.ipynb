{
  "nbformat": 4,
  "nbformat_minor": 0,
  "metadata": {
    "colab": {
      "name": "Basic Programming Concepts.ipynb",
      "provenance": [],
      "authorship_tag": "ABX9TyOIL9SXVYjAJ4TeNr4ooNZh",
      "include_colab_link": true
    },
    "kernelspec": {
      "name": "python3",
      "display_name": "Python 3"
    },
    "language_info": {
      "name": "python"
    }
  },
  "cells": [
    {
      "cell_type": "markdown",
      "metadata": {
        "id": "view-in-github",
        "colab_type": "text"
      },
      "source": [
        "<a href=\"https://colab.research.google.com/github/mintra-tippayaratsontorn/data_viz_2022/blob/main/Basic_Programming_Concepts.ipynb\" target=\"_parent\"><img src=\"https://colab.research.google.com/assets/colab-badge.svg\" alt=\"Open In Colab\"/></a>"
      ]
    },
    {
      "cell_type": "markdown",
      "source": [
        "# Functions ($f(x)=y$)"
      ],
      "metadata": {
        "id": "tqgXsOA1DjTb"
      }
    },
    {
      "cell_type": "markdown",
      "source": [
        "```python\n",
        "def function_name(input_x):\n",
        "    # do something with input_x to get output_y\n",
        "    return output_y\n",
        "```"
      ],
      "metadata": {
        "id": "Pa0wITp-EHM_"
      }
    },
    {
      "cell_type": "markdown",
      "source": [
        "$f_1(x) = x^2 + 75$"
      ],
      "metadata": {
        "id": "VvW7byszFywf"
      }
    },
    {
      "cell_type": "code",
      "source": [
        "def function_f1(x):\n",
        "    a = x**2  # ยกกำลังของ python โดยใช้ **\n",
        "    y = a + 75\n",
        "    return y\n",
        "\n",
        "print('done!')"
      ],
      "metadata": {
        "colab": {
          "base_uri": "https://localhost:8080/"
        },
        "id": "g3dDkLMsD8Eo",
        "outputId": "3f835719-650d-4f88-bc7e-dfea26354ef6"
      },
      "execution_count": 2,
      "outputs": [
        {
          "output_type": "stream",
          "name": "stdout",
          "text": [
            "done!\n"
          ]
        }
      ]
    },
    {
      "cell_type": "code",
      "source": [
        "function_f1(3)"
      ],
      "metadata": {
        "colab": {
          "base_uri": "https://localhost:8080/"
        },
        "id": "sv3b_jaeD77c",
        "outputId": "ba0a88a8-79a3-47f7-d658-297ec95c2f97"
      },
      "execution_count": 3,
      "outputs": [
        {
          "output_type": "execute_result",
          "data": {
            "text/plain": [
              "84"
            ]
          },
          "metadata": {},
          "execution_count": 3
        }
      ]
    },
    {
      "cell_type": "markdown",
      "source": [
        "function มีส่วนสำคัญทั้งหมด 4 ส่วน\n",
        "1. บอก python ว่าเราจะเขียนฟังก์ชั่นชื่ออะไร `def function_name():` (ขาดไม่ได้)\n",
        "2. กำหนดตัวแปรที่จะเป็น input *Input* (ขาดได้)\n",
        "3. ส่วนประมวลผล do something with *Input* to get *Output* (ขาดไม่ได้)\n",
        "4. ส่วน output `return` (ขาดได้)"
      ],
      "metadata": {
        "id": "3dDcCajaHUXo"
      }
    },
    {
      "cell_type": "markdown",
      "source": [
        "### ตัวอย่าง function ที่มีส่วนประกอบครบ"
      ],
      "metadata": {
        "id": "mIc0RDknH8KT"
      }
    },
    {
      "cell_type": "code",
      "source": [
        "def function_f1(x):\n",
        "    a = x**2\n",
        "    y = a + 75\n",
        "    return y"
      ],
      "metadata": {
        "id": "qsTS7Ig-D71q"
      },
      "execution_count": 4,
      "outputs": []
    },
    {
      "cell_type": "markdown",
      "source": [
        "### ตัวอย่าง function ที่ไม่มี input"
      ],
      "metadata": {
        "id": "MnfarQkAIcZU"
      }
    },
    {
      "cell_type": "code",
      "source": [
        "def pi_v():\n",
        "    y = 3.14159265359\n",
        "    return y"
      ],
      "metadata": {
        "id": "yq4QPp7ZD7zR"
      },
      "execution_count": 5,
      "outputs": []
    },
    {
      "cell_type": "code",
      "source": [
        "piv = pi_v()\n",
        "circle_area_r2 = pi_v()*(2**2)\n",
        "print(circle_area_r2)"
      ],
      "metadata": {
        "colab": {
          "base_uri": "https://localhost:8080/"
        },
        "id": "bhVp72WND6We",
        "outputId": "40eb1832-ead8-4427-8f95-77d250cb57fb"
      },
      "execution_count": 6,
      "outputs": [
        {
          "output_type": "stream",
          "name": "stdout",
          "text": [
            "12.56637061436\n"
          ]
        }
      ]
    },
    {
      "cell_type": "markdown",
      "source": [
        "### ตัวอย่าง function ไม่มี process ไม่ได้"
      ],
      "metadata": {
        "id": "D_H2wXAUJgCB"
      }
    },
    {
      "cell_type": "code",
      "source": [
        "def function_a():"
      ],
      "metadata": {
        "colab": {
          "base_uri": "https://localhost:8080/",
          "height": 135
        },
        "id": "4Z9ezt14D6US",
        "outputId": "511368bc-d8dc-4868-ac67-8b3689738b8c"
      },
      "execution_count": 7,
      "outputs": [
        {
          "output_type": "error",
          "ename": "SyntaxError",
          "evalue": "ignored",
          "traceback": [
            "\u001b[0;36m  File \u001b[0;32m\"<ipython-input-7-07a0750214a8>\"\u001b[0;36m, line \u001b[0;32m1\u001b[0m\n\u001b[0;31m    def function_a():\u001b[0m\n\u001b[0m                     ^\u001b[0m\n\u001b[0;31mSyntaxError\u001b[0m\u001b[0;31m:\u001b[0m unexpected EOF while parsing\n"
          ]
        }
      ]
    },
    {
      "cell_type": "markdown",
      "source": [
        "### ตัวอย่าง function ที่ไม่มี output"
      ],
      "metadata": {
        "id": "gewhH8CMJlvl"
      }
    },
    {
      "cell_type": "code",
      "source": [
        "def print_name_id(name,id):\n",
        "    print(f'ชื่อ {name} รหัสประจำตัว {id}')"
      ],
      "metadata": {
        "id": "-afjjkEkD6SC"
      },
      "execution_count": 8,
      "outputs": []
    },
    {
      "cell_type": "code",
      "source": [
        "print_name_id('มินตรา','623020041-2')"
      ],
      "metadata": {
        "colab": {
          "base_uri": "https://localhost:8080/"
        },
        "id": "lM119norJ99u",
        "outputId": "799ad3d1-e1ca-4129-dd40-bf7311eefc9f"
      },
      "execution_count": 9,
      "outputs": [
        {
          "output_type": "stream",
          "name": "stdout",
          "text": [
            "ชื่อ มินตรา รหัสประจำตัว 623020041-2\n"
          ]
        }
      ]
    },
    {
      "cell_type": "code",
      "source": [
        "a = print_name_id('มินตรา','623020041-2')"
      ],
      "metadata": {
        "colab": {
          "base_uri": "https://localhost:8080/"
        },
        "id": "idCcmbDlKdDO",
        "outputId": "43728240-bd6b-456a-dfe4-529f63973624"
      },
      "execution_count": 10,
      "outputs": [
        {
          "output_type": "stream",
          "name": "stdout",
          "text": [
            "ชื่อ มินตรา รหัสประจำตัว 623020041-2\n"
          ]
        }
      ]
    },
    {
      "cell_type": "code",
      "source": [
        "a"
      ],
      "metadata": {
        "id": "TPL-ngruKdAX"
      },
      "execution_count": 11,
      "outputs": []
    },
    {
      "cell_type": "markdown",
      "source": [
        "### ตัวอย่าง function `print`\n",
        "\n",
        "https://www.programiz.com/python-programming/methods/built-in/print"
      ],
      "metadata": {
        "id": "UtgBFsu0O0zz"
      }
    },
    {
      "cell_type": "code",
      "source": [
        "print('มินตรา')\n",
        "print('623020041-2')"
      ],
      "metadata": {
        "colab": {
          "base_uri": "https://localhost:8080/"
        },
        "id": "AwBNK2JCO_LC",
        "outputId": "f812f44b-9a3c-4e11-fb47-1c2d8a0b1c89"
      },
      "execution_count": 12,
      "outputs": [
        {
          "output_type": "stream",
          "name": "stdout",
          "text": [
            "มินตรา\n",
            "623020041-2\n"
          ]
        }
      ]
    },
    {
      "cell_type": "code",
      "source": [
        "print('มินตรา',end='->')\n",
        "print('623020041-2')"
      ],
      "metadata": {
        "colab": {
          "base_uri": "https://localhost:8080/"
        },
        "id": "UywzH23OO_I1",
        "outputId": "7ab58bfb-99b8-4626-8404-3e64bc53bba5"
      },
      "execution_count": 13,
      "outputs": [
        {
          "output_type": "stream",
          "name": "stdout",
          "text": [
            "มินตรา->623020041-2\n"
          ]
        }
      ]
    },
    {
      "cell_type": "code",
      "source": [
        "print('มินตรา','623020041-2')  # เว้นวรรคให้"
      ],
      "metadata": {
        "colab": {
          "base_uri": "https://localhost:8080/"
        },
        "id": "dNEb0j85O_Gd",
        "outputId": "975ebd18-3788-4eca-fff3-6be3466ec917"
      },
      "execution_count": 14,
      "outputs": [
        {
          "output_type": "stream",
          "name": "stdout",
          "text": [
            "มินตรา 623020041-2\n"
          ]
        }
      ]
    },
    {
      "cell_type": "code",
      "source": [
        "print('มินตรา','623020041-2',sep=' & ')  # กำหนดตัวขั้นคำ"
      ],
      "metadata": {
        "colab": {
          "base_uri": "https://localhost:8080/"
        },
        "id": "1_Yxn7DcPnuJ",
        "outputId": "5b6f1834-2814-4fad-958b-51bca1ebb155"
      },
      "execution_count": 15,
      "outputs": [
        {
          "output_type": "stream",
          "name": "stdout",
          "text": [
            "มินตรา & 623020041-2\n"
          ]
        }
      ]
    },
    {
      "cell_type": "markdown",
      "source": [
        "## input ของ function แบ่งเป็น 2 ชนิด (จำเป็นต้องใส่ กับ ไม่จำเป็นต้องใส่)"
      ],
      "metadata": {
        "id": "6wIxqHotQC9w"
      }
    },
    {
      "cell_type": "markdown",
      "source": [
        "ตัวอย่าง function `print_grade()` มี input 3 ตัว จำเป็นต้องใส่ 2 ตัว คือ name กับ id และไม่จำเป็นต้องใส่ 1 ตัว คือเกรด ซึ่งมีค่า default เป็น F"
      ],
      "metadata": {
        "id": "PGFTGkxVRBQs"
      }
    },
    {
      "cell_type": "code",
      "source": [
        "def print_grade(name,id,grade = 'F'):\n",
        "    print(f'รหัสประจำตัว {id} ชื่อ {name}')\n",
        "    print(f'ได้เกรด {grade}')"
      ],
      "metadata": {
        "id": "NQ7scHBAPnrh"
      },
      "execution_count": 16,
      "outputs": []
    },
    {
      "cell_type": "code",
      "source": [
        "print_grade('มินตรา','623020041-2')  # ถ้าไม่ใส่ค่าที่ 3 มันจะใส่ค่า default มาให้"
      ],
      "metadata": {
        "colab": {
          "base_uri": "https://localhost:8080/"
        },
        "id": "qixfwwK6RrIM",
        "outputId": "62a14007-2ad9-4ef3-8e4f-86ed36d31c9f"
      },
      "execution_count": 17,
      "outputs": [
        {
          "output_type": "stream",
          "name": "stdout",
          "text": [
            "รหัสประจำตัว 623020041-2 ชื่อ มินตรา\n",
            "ได้เกรด F\n"
          ]
        }
      ]
    },
    {
      "cell_type": "code",
      "source": [
        "print_grade('มินตรา','623020041-2','A')  # ใส่ค่าที่ 3"
      ],
      "metadata": {
        "colab": {
          "base_uri": "https://localhost:8080/"
        },
        "id": "Wc3s17OBR0qI",
        "outputId": "6c6d9f34-851c-42b7-a39b-1a48859ffe9c"
      },
      "execution_count": 18,
      "outputs": [
        {
          "output_type": "stream",
          "name": "stdout",
          "text": [
            "รหัสประจำตัว 623020041-2 ชื่อ มินตรา\n",
            "ได้เกรด A\n"
          ]
        }
      ]
    },
    {
      "cell_type": "code",
      "source": [
        "print_grade(name='มินตรา',id='623020041-2',grade='B+')  # ใส่ตามรูปแบบที่กำหนด"
      ],
      "metadata": {
        "colab": {
          "base_uri": "https://localhost:8080/"
        },
        "id": "LKTQ3bjWR0mw",
        "outputId": "d0081ae6-ce86-4d36-8d92-a12926e20123"
      },
      "execution_count": 19,
      "outputs": [
        {
          "output_type": "stream",
          "name": "stdout",
          "text": [
            "รหัสประจำตัว 623020041-2 ชื่อ มินตรา\n",
            "ได้เกรด B+\n"
          ]
        }
      ]
    },
    {
      "cell_type": "markdown",
      "source": [
        "# Looping (for)"
      ],
      "metadata": {
        "id": "oftsaazLDm1y"
      }
    },
    {
      "cell_type": "markdown",
      "source": [
        "```python\n",
        "for member in listEx:\n",
        "    do something()\n",
        "```"
      ],
      "metadata": {
        "id": "76NDjVqRTdFT"
      }
    },
    {
      "cell_type": "code",
      "source": [
        "for member in [1,2,3,4,5,6]:\n",
        "    print(member)"
      ],
      "metadata": {
        "id": "rDCfsDMyD6_A",
        "colab": {
          "base_uri": "https://localhost:8080/"
        },
        "outputId": "47c293f3-13e2-4c8c-c7eb-825bdb6f7fd7"
      },
      "execution_count": 20,
      "outputs": [
        {
          "output_type": "stream",
          "name": "stdout",
          "text": [
            "1\n",
            "2\n",
            "3\n",
            "4\n",
            "5\n",
            "6\n"
          ]
        }
      ]
    },
    {
      "cell_type": "code",
      "source": [
        "def print_name(name):\n",
        "    print(f'ฉันชื่อ {name}')"
      ],
      "metadata": {
        "id": "k5jglVh1UZwb"
      },
      "execution_count": 21,
      "outputs": []
    },
    {
      "cell_type": "code",
      "source": [
        "for name in ['วัชราภรณ์','จุฑากาญจน์','ชลธิชา','ญาดา','กิตติคุณ']:\n",
        "    N = name\n",
        "    print_name(N)"
      ],
      "metadata": {
        "colab": {
          "base_uri": "https://localhost:8080/"
        },
        "id": "rg_u47ZdUZtq",
        "outputId": "5bd69854-c05b-4840-a884-bb5c02d9612b"
      },
      "execution_count": 23,
      "outputs": [
        {
          "output_type": "stream",
          "name": "stdout",
          "text": [
            "ฉันชื่อ วัชราภรณ์\n",
            "ฉันชื่อ จุฑากาญจน์\n",
            "ฉันชื่อ ชลธิชา\n",
            "ฉันชื่อ ญาดา\n",
            "ฉันชื่อ กิตติคุณ\n"
          ]
        }
      ]
    },
    {
      "cell_type": "code",
      "source": [
        "list_name_id_grade = [['นางสาวเบญญาภา ระภูเขียว','623020527-6','B'],\n",
        "                      ['นางสาวทักษิณา ราชหุ่น','623021000-1','A'],\n",
        "                      ['นางสาวปลายฟ้า คำเพ็ง','623021005-1','C']]"
      ],
      "metadata": {
        "id": "rSEIjgHGUZrG"
      },
      "execution_count": 25,
      "outputs": []
    },
    {
      "cell_type": "code",
      "source": [
        "for each in list_name_id_grade:\n",
        "    name = each[0]\n",
        "    id = each[1]\n",
        "    grade = each[2]\n",
        "    print_grade(name,id,grade)\n",
        "    print('------------------')"
      ],
      "metadata": {
        "colab": {
          "base_uri": "https://localhost:8080/"
        },
        "id": "SO4GZr7GUY22",
        "outputId": "9324dda6-62b9-4873-ead9-0550b40fdfe5"
      },
      "execution_count": 27,
      "outputs": [
        {
          "output_type": "stream",
          "name": "stdout",
          "text": [
            "รหัสประจำตัว 623020527-6 ชื่อ นางสาวเบญญาภา ระภูเขียว\n",
            "ได้เกรด B\n",
            "------------------\n",
            "รหัสประจำตัว 623021000-1 ชื่อ นางสาวทักษิณา ราชหุ่น\n",
            "ได้เกรด A\n",
            "------------------\n",
            "รหัสประจำตัว 623021005-1 ชื่อ นางสาวปลายฟ้า คำเพ็ง\n",
            "ได้เกรด C\n",
            "------------------\n"
          ]
        }
      ]
    },
    {
      "cell_type": "markdown",
      "source": [
        "### ใช้ for loop เพิ่มสมาชิกใน list"
      ],
      "metadata": {
        "id": "k8OmmaGuYWBC"
      }
    },
    {
      "cell_type": "code",
      "source": [
        "list_name = []\n",
        "list_id = []\n",
        "list_grade = []\n",
        "for each in list_name_id_grade:\n",
        "    list_name.append(each[0])\n",
        "    list_id.append(each[1])\n",
        "    list_grade.append(each[2])"
      ],
      "metadata": {
        "id": "i3iH3kj1Yjmu"
      },
      "execution_count": 28,
      "outputs": []
    },
    {
      "cell_type": "code",
      "source": [
        "list_name"
      ],
      "metadata": {
        "colab": {
          "base_uri": "https://localhost:8080/"
        },
        "id": "Dec8eyKIYV1m",
        "outputId": "c430deed-4ab6-449d-b46a-2ecbfe80dfad"
      },
      "execution_count": 29,
      "outputs": [
        {
          "output_type": "execute_result",
          "data": {
            "text/plain": [
              "['นางสาวเบญญาภา ระภูเขียว', 'นางสาวทักษิณา ราชหุ่น', 'นางสาวปลายฟ้า คำเพ็ง']"
            ]
          },
          "metadata": {},
          "execution_count": 29
        }
      ]
    },
    {
      "cell_type": "markdown",
      "source": [
        "### การวนลูปด้วย `range()`"
      ],
      "metadata": {
        "id": "gldNHqirbbTx"
      }
    },
    {
      "cell_type": "code",
      "source": [
        "for i in range(100):  # print วน 100 รอบ\n",
        "    print('งง', end=' ')"
      ],
      "metadata": {
        "colab": {
          "base_uri": "https://localhost:8080/"
        },
        "id": "KJELQtJibbHo",
        "outputId": "92350708-f759-45ce-fe3f-206b90315482"
      },
      "execution_count": 30,
      "outputs": [
        {
          "output_type": "stream",
          "name": "stdout",
          "text": [
            "งง งง งง งง งง งง งง งง งง งง งง งง งง งง งง งง งง งง งง งง งง งง งง งง งง งง งง งง งง งง งง งง งง งง งง งง งง งง งง งง งง งง งง งง งง งง งง งง งง งง งง งง งง งง งง งง งง งง งง งง งง งง งง งง งง งง งง งง งง งง งง งง งง งง งง งง งง งง งง งง งง งง งง งง งง งง งง งง งง งง งง งง งง งง งง งง งง งง งง งง "
          ]
        }
      ]
    },
    {
      "cell_type": "markdown",
      "source": [
        "### Loop ซ้อน Loop"
      ],
      "metadata": {
        "id": "hpfvCZDdcXC_"
      }
    },
    {
      "cell_type": "code",
      "source": [
        "# ให้วนลูปเป็นแม่สูตรคูณ\n",
        "for mem1 in range(2,5):  # [2,3,4]\n",
        "    print(f'now mem1 = {mem1}')\n",
        "    for mem2 in range(1,13):  # [1,2,3,4,5,6,7,8,9,10,11,12]\n",
        "        print(f'{mem1} x {mem2} = {mem1*mem2}')\n",
        "    print(f'end inner for mem1 = {mem1}')"
      ],
      "metadata": {
        "colab": {
          "base_uri": "https://localhost:8080/"
        },
        "id": "HDF6BEHObbFW",
        "outputId": "2ce2ba82-4caa-4b3e-ca01-f3d6457d39db"
      },
      "execution_count": 32,
      "outputs": [
        {
          "output_type": "stream",
          "name": "stdout",
          "text": [
            "now mem1 = 2\n",
            "2 x 1 = 2\n",
            "2 x 2 = 4\n",
            "2 x 3 = 6\n",
            "2 x 4 = 8\n",
            "2 x 5 = 10\n",
            "2 x 6 = 12\n",
            "2 x 7 = 14\n",
            "2 x 8 = 16\n",
            "2 x 9 = 18\n",
            "2 x 10 = 20\n",
            "2 x 11 = 22\n",
            "2 x 12 = 24\n",
            "end inner for mem1 = 2\n",
            "now mem1 = 3\n",
            "3 x 1 = 3\n",
            "3 x 2 = 6\n",
            "3 x 3 = 9\n",
            "3 x 4 = 12\n",
            "3 x 5 = 15\n",
            "3 x 6 = 18\n",
            "3 x 7 = 21\n",
            "3 x 8 = 24\n",
            "3 x 9 = 27\n",
            "3 x 10 = 30\n",
            "3 x 11 = 33\n",
            "3 x 12 = 36\n",
            "end inner for mem1 = 3\n",
            "now mem1 = 4\n",
            "4 x 1 = 4\n",
            "4 x 2 = 8\n",
            "4 x 3 = 12\n",
            "4 x 4 = 16\n",
            "4 x 5 = 20\n",
            "4 x 6 = 24\n",
            "4 x 7 = 28\n",
            "4 x 8 = 32\n",
            "4 x 9 = 36\n",
            "4 x 10 = 40\n",
            "4 x 11 = 44\n",
            "4 x 12 = 48\n",
            "end inner for mem1 = 4\n"
          ]
        }
      ]
    },
    {
      "cell_type": "markdown",
      "source": [
        "### Loop in Function"
      ],
      "metadata": {
        "id": "rrHXJkl4f_Ct"
      }
    },
    {
      "cell_type": "code",
      "source": [
        "def print_grade_loop(names,grades):\n",
        "    for n,g in zip(names,grades):\n",
        "        print(f'{n} ได้เกรด {g}')"
      ],
      "metadata": {
        "id": "2dbJ8UZ-cdRu"
      },
      "execution_count": 33,
      "outputs": []
    },
    {
      "cell_type": "code",
      "source": [
        "print_grade_loop(list_name,list_grade)"
      ],
      "metadata": {
        "colab": {
          "base_uri": "https://localhost:8080/"
        },
        "id": "1k0KbSsrcdPn",
        "outputId": "e26f6904-f5d7-49de-f0c3-53f11b644532"
      },
      "execution_count": 34,
      "outputs": [
        {
          "output_type": "stream",
          "name": "stdout",
          "text": [
            "นางสาวเบญญาภา ระภูเขียว ได้เกรด B\n",
            "นางสาวทักษิณา ราชหุ่น ได้เกรด A\n",
            "นางสาวปลายฟ้า คำเพ็ง ได้เกรด C\n"
          ]
        }
      ]
    },
    {
      "cell_type": "markdown",
      "source": [
        "# Conditional Statement (if)"
      ],
      "metadata": {
        "id": "GGqqLU1ODqxO"
      }
    },
    {
      "cell_type": "markdown",
      "source": [
        "```python\n",
        "if condition1:\n",
        "    do_something()  # ถ้า condition1 เป็นจริง ทำ do_something()\n",
        "elif condition2:\n",
        "    do_another_thing()  # ถ้า condition1 ไม่เป็นจริงแต่ ทำ condition2 เป็นจริง ทำ do_another_thing()\n",
        "else:\n",
        "    do_the_last_thing()  # ถ้าไม่มี condition ไหนเป็นจริง ทำ do_the_last_thing()\n",
        "```"
      ],
      "metadata": {
        "id": "5E72Y8VhhsuV"
      }
    },
    {
      "cell_type": "code",
      "execution_count": 37,
      "metadata": {
        "id": "rcDuAZV-DPvf",
        "colab": {
          "base_uri": "https://localhost:8080/"
        },
        "outputId": "7526af04-8635-41c2-d330-7a4852d8e172"
      },
      "outputs": [
        {
          "output_type": "stream",
          "name": "stdout",
          "text": [
            "นางสาวเบญญาภา ระภูเขียว ได้เกรด A\n",
            "นางสาวทักษิณา ราชหุ่น ได้เกรด A\n",
            "นางสาวปลายฟ้า คำเพ็ง ได้เกรด F\n"
          ]
        }
      ],
      "source": [
        "for n in list_name:\n",
        "    if len(n)>20:\n",
        "        print(f'{n} ได้เกรด A')\n",
        "    else:\n",
        "        print(f'{n} ได้เกรด F')"
      ]
    },
    {
      "cell_type": "markdown",
      "source": [
        "### operation ที่ใช้ตรวจสอบ condition\n",
        "\n",
        "== , != , >= , <= , < , > , and , or"
      ],
      "metadata": {
        "id": "fAwPaVm5kFw8"
      }
    },
    {
      "cell_type": "code",
      "source": [
        "a = 10 == 20\n",
        "a"
      ],
      "metadata": {
        "colab": {
          "base_uri": "https://localhost:8080/"
        },
        "id": "z3AFCEPQjzZB",
        "outputId": "bf1657f9-708c-4f00-9020-1e324b3eeeb1"
      },
      "execution_count": 39,
      "outputs": [
        {
          "output_type": "execute_result",
          "data": {
            "text/plain": [
              "False"
            ]
          },
          "metadata": {},
          "execution_count": 39
        }
      ]
    },
    {
      "cell_type": "code",
      "source": [
        "b = 15 <= 20\n",
        "b"
      ],
      "metadata": {
        "colab": {
          "base_uri": "https://localhost:8080/"
        },
        "id": "QdgnSm9BkWRT",
        "outputId": "e6527484-b39a-4265-ec94-b013bfc3b482"
      },
      "execution_count": 40,
      "outputs": [
        {
          "output_type": "execute_result",
          "data": {
            "text/plain": [
              "True"
            ]
          },
          "metadata": {},
          "execution_count": 40
        }
      ]
    },
    {
      "cell_type": "code",
      "source": [
        "if a:\n",
        "    print('x')"
      ],
      "metadata": {
        "id": "v0x7Pw0JkWPX"
      },
      "execution_count": 41,
      "outputs": []
    },
    {
      "cell_type": "code",
      "source": [
        "if True:\n",
        "    print('x')"
      ],
      "metadata": {
        "colab": {
          "base_uri": "https://localhost:8080/"
        },
        "id": "t3LmeORUlC_v",
        "outputId": "cc6b2e8c-2cb2-4b46-d24f-e58c843c4329"
      },
      "execution_count": 42,
      "outputs": [
        {
          "output_type": "stream",
          "name": "stdout",
          "text": [
            "x\n"
          ]
        }
      ]
    },
    {
      "cell_type": "code",
      "source": [
        "if a and b:\n",
        "    print('x')"
      ],
      "metadata": {
        "id": "7Gf13zt-lHkv"
      },
      "execution_count": 43,
      "outputs": []
    },
    {
      "cell_type": "code",
      "source": [
        "if a or b:\n",
        "    print('x')"
      ],
      "metadata": {
        "colab": {
          "base_uri": "https://localhost:8080/"
        },
        "id": "Mxlnu5IGlUGn",
        "outputId": "79fe10c8-aafc-45c1-c8a8-81432e066ee1"
      },
      "execution_count": 44,
      "outputs": [
        {
          "output_type": "stream",
          "name": "stdout",
          "text": [
            "x\n"
          ]
        }
      ]
    },
    {
      "cell_type": "markdown",
      "source": [
        "# HW4\n",
        "\n",
        "เขียน function ตัดเกรด โดยที่ input เป็นคะแนน(0-100) , output เป็นเกรด (F-A) หรือ 'ไม่สามารถตัดเกรดได้'\n",
        "\n",
        "วนลูปตัดเกรด input = [1,50,65,90,101,-5,49,'ก',80]\n",
        "\n",
        "กำหนด\n",
        "* ถ้าคะแนนอยู่ระหว่างมากกว่าหรือเท่ากับ  0 แต่น้อยกว่า 50 จะได้เกรด F\n",
        "* ถ้าคะแนนอยู่ระหว่างมากกว่าหรือเท่ากับ 50 แต่น้อยกว่า 55 จะได้เกรด D\n",
        "* ถ้าคะแนนอยู่ระหว่างมากกว่าหรือเท่ากับ 55 แต่น้อยกว่า 60 จะได้เกรด D+\n",
        "* ถ้าคะแนนอยู่ระหว่างมากกว่าหรือเท่ากับ 60 แต่น้อยกว่า 65 จะได้เกรด C\n",
        "* ถ้าคะแนนอยู่ระหว่างมากกว่าหรือเท่ากับ 65 แต่น้อยกว่า 70 จะได้เกรด C+\n",
        "* ถ้าคะแนนอยู่ระหว่างมากกว่าหรือเท่ากับ 70 แต่น้อยกว่า 75 จะได้เกรด B\n",
        "* ถ้าคะแนนอยู่ระหว่างมากกว่าหรือเท่ากับ 75 แต่น้อยกว่า 80 จะได้เกรด B+\n",
        "* ถ้าคะแนนอยู่ระหว่างมากกว่าหรือเท่ากับ 80 จะได้เกรด A\n",
        "* ถ้าคะแนนไม่อยู่ในช่วง 0-100 ให้ return 'ไม่สามารถตัดเกรดได้'\n",
        "\n"
      ],
      "metadata": {
        "id": "UZ9VxyKklofM"
      }
    },
    {
      "cell_type": "code",
      "source": [
        "score_hw = [1,50,65,90,101,-5,49,'ก',80]"
      ],
      "metadata": {
        "id": "jvJ73dLYqvlr"
      },
      "execution_count": 59,
      "outputs": []
    },
    {
      "cell_type": "code",
      "source": [
        "def grade(n):\n",
        "    if n >= 80:\n",
        "        grade ='A'\n",
        "    elif n >= 75:\n",
        "        grade ='B+'\n",
        "    elif n >= 70:\n",
        "        grade ='B'\n",
        "    elif n >= 65:\n",
        "        grade ='C+'\n",
        "    elif n >= 60:\n",
        "        grade ='C'\n",
        "    elif n >= 55:\n",
        "        grade ='D+'\n",
        "    elif n >= 50:\n",
        "        grade ='D'\n",
        "    elif n >= 0:\n",
        "        grade = 'F'\n",
        "    else:\n",
        "        grade ='ไม่สามารถตัดเกรดได้'\n",
        "\n",
        "    return grade"
      ],
      "metadata": {
        "id": "UsumRxN8rspA"
      },
      "execution_count": 61,
      "outputs": []
    },
    {
      "cell_type": "code",
      "source": [
        "score = [1,50,65,90,101,-5,49,'ก',80]\n",
        "for n in score:\n",
        "    print(f'score {n} = grade {grade(n)}')"
      ],
      "metadata": {
        "id": "lSXNf3j1sMZ3",
        "outputId": "0bd3886d-9a6c-447c-923f-8b4e1717c127",
        "colab": {
          "base_uri": "https://localhost:8080/",
          "height": 464
        }
      },
      "execution_count": 63,
      "outputs": [
        {
          "output_type": "stream",
          "name": "stdout",
          "text": [
            "score 1 = grade F\n",
            "score 50 = grade D\n",
            "score 65 = grade C+\n",
            "score 90 = grade A\n",
            "score 101 = grade A\n",
            "score -5 = grade ไม่สามารถตัดเกรดได้\n",
            "score 49 = grade F\n"
          ]
        },
        {
          "output_type": "error",
          "ename": "TypeError",
          "evalue": "ignored",
          "traceback": [
            "\u001b[0;31m---------------------------------------------------------------------------\u001b[0m",
            "\u001b[0;31mTypeError\u001b[0m                                 Traceback (most recent call last)",
            "\u001b[0;32m<ipython-input-63-f3180e7beb44>\u001b[0m in \u001b[0;36m<module>\u001b[0;34m()\u001b[0m\n\u001b[1;32m      1\u001b[0m \u001b[0mscore\u001b[0m \u001b[0;34m=\u001b[0m \u001b[0;34m[\u001b[0m\u001b[0;36m1\u001b[0m\u001b[0;34m,\u001b[0m\u001b[0;36m50\u001b[0m\u001b[0;34m,\u001b[0m\u001b[0;36m65\u001b[0m\u001b[0;34m,\u001b[0m\u001b[0;36m90\u001b[0m\u001b[0;34m,\u001b[0m\u001b[0;36m101\u001b[0m\u001b[0;34m,\u001b[0m\u001b[0;34m-\u001b[0m\u001b[0;36m5\u001b[0m\u001b[0;34m,\u001b[0m\u001b[0;36m49\u001b[0m\u001b[0;34m,\u001b[0m\u001b[0;34m'ก'\u001b[0m\u001b[0;34m,\u001b[0m\u001b[0;36m80\u001b[0m\u001b[0;34m]\u001b[0m\u001b[0;34m\u001b[0m\u001b[0;34m\u001b[0m\u001b[0m\n\u001b[1;32m      2\u001b[0m \u001b[0;32mfor\u001b[0m \u001b[0mn\u001b[0m \u001b[0;32min\u001b[0m \u001b[0mscore\u001b[0m\u001b[0;34m:\u001b[0m\u001b[0;34m\u001b[0m\u001b[0;34m\u001b[0m\u001b[0m\n\u001b[0;32m----> 3\u001b[0;31m     \u001b[0mprint\u001b[0m\u001b[0;34m(\u001b[0m\u001b[0;34mf'score {n} = grade {grade(n)}'\u001b[0m\u001b[0;34m)\u001b[0m\u001b[0;34m\u001b[0m\u001b[0;34m\u001b[0m\u001b[0m\n\u001b[0m",
            "\u001b[0;32m<ipython-input-61-783a6ed76fb2>\u001b[0m in \u001b[0;36mgrade\u001b[0;34m(n)\u001b[0m\n\u001b[1;32m      1\u001b[0m \u001b[0;32mdef\u001b[0m \u001b[0mgrade\u001b[0m\u001b[0;34m(\u001b[0m\u001b[0mn\u001b[0m\u001b[0;34m)\u001b[0m\u001b[0;34m:\u001b[0m\u001b[0;34m\u001b[0m\u001b[0;34m\u001b[0m\u001b[0m\n\u001b[0;32m----> 2\u001b[0;31m     \u001b[0;32mif\u001b[0m \u001b[0mn\u001b[0m \u001b[0;34m>=\u001b[0m \u001b[0;36m80\u001b[0m\u001b[0;34m:\u001b[0m\u001b[0;34m\u001b[0m\u001b[0;34m\u001b[0m\u001b[0m\n\u001b[0m\u001b[1;32m      3\u001b[0m         \u001b[0mgrade\u001b[0m \u001b[0;34m=\u001b[0m\u001b[0;34m'A'\u001b[0m\u001b[0;34m\u001b[0m\u001b[0;34m\u001b[0m\u001b[0m\n\u001b[1;32m      4\u001b[0m     \u001b[0;32melif\u001b[0m \u001b[0mn\u001b[0m \u001b[0;34m>=\u001b[0m \u001b[0;36m75\u001b[0m\u001b[0;34m:\u001b[0m\u001b[0;34m\u001b[0m\u001b[0;34m\u001b[0m\u001b[0m\n\u001b[1;32m      5\u001b[0m         \u001b[0mgrade\u001b[0m \u001b[0;34m=\u001b[0m\u001b[0;34m'B+'\u001b[0m\u001b[0;34m\u001b[0m\u001b[0;34m\u001b[0m\u001b[0m\n",
            "\u001b[0;31mTypeError\u001b[0m: '>=' not supported between instances of 'str' and 'int'"
          ]
        }
      ]
    },
    {
      "cell_type": "code",
      "source": [
        ""
      ],
      "metadata": {
        "id": "BwKsTWMdsMXR"
      },
      "execution_count": null,
      "outputs": []
    },
    {
      "cell_type": "code",
      "source": [
        "for n in score_hw:\n",
        "    if n >= 80:\n",
        "        print(f'{n} grade A')\n",
        "    elif n >= 75:\n",
        "        print(f'{n} grade B+')\n",
        "    elif n >= 70:\n",
        "        print(f'{n} grade B')\n",
        "    elif n >= 65:\n",
        "        print(f'{n} grade C+')\n",
        "    elif n >= 60:\n",
        "        print(f'{n} grade C')\n",
        "    elif n >= 55:\n",
        "        print(f'{n} grade D+')\n",
        "    elif n >= 50:\n",
        "        print(f'{n} grade D')\n",
        "    elif n >= 0:\n",
        "        print(f'{n} grade F')\n",
        "    else:\n",
        "        print(f'{n} ไม่สามารถตัดเกรดได้')"
      ],
      "metadata": {
        "id": "cPAjgkWrqhGJ",
        "outputId": "2e59b2f2-75e5-465d-97c0-85ab239418dc",
        "colab": {
          "base_uri": "https://localhost:8080/",
          "height": 372
        }
      },
      "execution_count": 60,
      "outputs": [
        {
          "output_type": "stream",
          "name": "stdout",
          "text": [
            "1 grade F\n",
            "50 grade D\n",
            "65 grade C+\n",
            "90 grade A\n",
            "101 grade A\n",
            "-5 ไม่สามารถตัดเกรดได้\n",
            "49 grade F\n"
          ]
        },
        {
          "output_type": "error",
          "ename": "TypeError",
          "evalue": "ignored",
          "traceback": [
            "\u001b[0;31m---------------------------------------------------------------------------\u001b[0m",
            "\u001b[0;31mTypeError\u001b[0m                                 Traceback (most recent call last)",
            "\u001b[0;32m<ipython-input-60-72e98f4d0811>\u001b[0m in \u001b[0;36m<module>\u001b[0;34m()\u001b[0m\n\u001b[1;32m      1\u001b[0m \u001b[0;32mfor\u001b[0m \u001b[0mn\u001b[0m \u001b[0;32min\u001b[0m \u001b[0mscore_hw\u001b[0m\u001b[0;34m:\u001b[0m\u001b[0;34m\u001b[0m\u001b[0;34m\u001b[0m\u001b[0m\n\u001b[0;32m----> 2\u001b[0;31m     \u001b[0;32mif\u001b[0m \u001b[0mn\u001b[0m \u001b[0;34m>=\u001b[0m \u001b[0;36m80\u001b[0m\u001b[0;34m:\u001b[0m\u001b[0;34m\u001b[0m\u001b[0;34m\u001b[0m\u001b[0m\n\u001b[0m\u001b[1;32m      3\u001b[0m         \u001b[0mprint\u001b[0m\u001b[0;34m(\u001b[0m\u001b[0;34mf'{n} grade A'\u001b[0m\u001b[0;34m)\u001b[0m\u001b[0;34m\u001b[0m\u001b[0;34m\u001b[0m\u001b[0m\n\u001b[1;32m      4\u001b[0m     \u001b[0;32melif\u001b[0m \u001b[0mn\u001b[0m \u001b[0;34m>=\u001b[0m \u001b[0;36m75\u001b[0m\u001b[0;34m:\u001b[0m\u001b[0;34m\u001b[0m\u001b[0;34m\u001b[0m\u001b[0m\n\u001b[1;32m      5\u001b[0m         \u001b[0mprint\u001b[0m\u001b[0;34m(\u001b[0m\u001b[0;34mf'{n} grade B+'\u001b[0m\u001b[0;34m)\u001b[0m\u001b[0;34m\u001b[0m\u001b[0;34m\u001b[0m\u001b[0m\n",
            "\u001b[0;31mTypeError\u001b[0m: '>=' not supported between instances of 'str' and 'int'"
          ]
        }
      ]
    },
    {
      "cell_type": "code",
      "source": [
        ""
      ],
      "metadata": {
        "id": "Rl-mBXukoxey"
      },
      "execution_count": null,
      "outputs": []
    }
  ]
}