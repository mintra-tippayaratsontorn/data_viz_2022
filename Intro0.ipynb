{
  "nbformat": 4,
  "nbformat_minor": 0,
  "metadata": {
    "colab": {
      "name": "Intro0.ipynb",
      "provenance": [],
      "authorship_tag": "ABX9TyOmnEYM8QGQp38/HXP+j7EX",
      "include_colab_link": true
    },
    "kernelspec": {
      "name": "python3",
      "display_name": "Python 3"
    },
    "language_info": {
      "name": "python"
    }
  },
  "cells": [
    {
      "cell_type": "markdown",
      "metadata": {
        "id": "view-in-github",
        "colab_type": "text"
      },
      "source": [
        "<a href=\"https://colab.research.google.com/github/mintra-tippayaratsontorn/data_viz_2022/blob/main/Intro0.ipynb\" target=\"_parent\"><img src=\"https://colab.research.google.com/assets/colab-badge.svg\" alt=\"Open In Colab\"/></a>"
      ]
    },
    {
      "cell_type": "markdown",
      "source": [
        "# Introduction to Basic Programming for Data Science and Data Visualization"
      ],
      "metadata": {
        "id": "Tw_Ip5bu-SOH"
      }
    },
    {
      "cell_type": "code",
      "execution_count": 1,
      "metadata": {
        "colab": {
          "base_uri": "https://localhost:8080/"
        },
        "id": "U37byJ1o9iuP",
        "outputId": "562ae4df-6872-4a89-d464-3340b2ec3bb4"
      },
      "outputs": [
        {
          "output_type": "execute_result",
          "data": {
            "text/plain": [
              "3"
            ]
          },
          "metadata": {},
          "execution_count": 1
        }
      ],
      "source": [
        "a = 1\n",
        "b = 2\n",
        "a + b"
      ]
    },
    {
      "cell_type": "markdown",
      "source": [
        "1 + 2"
      ],
      "metadata": {
        "id": "MPbWPE6W-q4R"
      }
    },
    {
      "cell_type": "code",
      "source": [
        "print('มินตรา ทิพยรัตน์สุนทร ID 623020041-2')"
      ],
      "metadata": {
        "colab": {
          "base_uri": "https://localhost:8080/"
        },
        "id": "3mRlnXjm9r1J",
        "outputId": "eba8228d-3f43-4272-c271-85d85ae75dd8"
      },
      "execution_count": 2,
      "outputs": [
        {
          "output_type": "stream",
          "name": "stdout",
          "text": [
            "มินตรา ทิพยรัตน์สุนทร ID 623020041-2\n"
          ]
        }
      ]
    },
    {
      "cell_type": "code",
      "source": [
        ""
      ],
      "metadata": {
        "id": "jegD91M6_hV7"
      },
      "execution_count": null,
      "outputs": []
    }
  ]
}